{
 "cells": [
  {
   "cell_type": "code",
   "execution_count": 2,
   "metadata": {},
   "outputs": [],
   "source": [
    "from pymongo import MongoClient\n"
   ]
  },
  {
   "cell_type": "code",
   "execution_count": 9,
   "metadata": {},
   "outputs": [],
   "source": [
    "\n",
    "# Create a client\n",
    "client = MongoClient('mongodb://localhost:27017/')\n",
    "\n",
    "# Access the database\n",
    "db = client['pmid2text']\n",
    "\n",
    "# Access the collection\n",
    "collection = db['pubMED']\n"
   ]
  },
  {
   "cell_type": "code",
   "execution_count": 10,
   "metadata": {},
   "outputs": [],
   "source": [
    "\n",
    "# Query the database\n",
    "result = collection.find_one({\"_id\": \"32818572\"})\n"
   ]
  },
  {
   "cell_type": "code",
   "execution_count": 11,
   "metadata": {},
   "outputs": [
    {
     "data": {
      "text/plain": [
       "{'_id': '32818572',\n",
       " 'value': \"Bioactive component analysis and investigation of antidiabetic effect of Jerusalem thorn  ( Paliurus spina - christi )  fruits in diabetic rats induced by streptozotocin .  ETHNOPHARMACOLOGICAL RELEVANCE The extracts of Jerusalem thorn fruits  ( JT - FE )  have been commonly used for the treatment of diabetes mellitus in Turkey .     AIM OF THE STUDY In this study ,  it is aimed to investigate the effects of the JT - FE ,  prepared by decoction ,  on blood glucose ,  insulin and glycated haemoglobin levels of diabetic rats induced with streptozotocin  ( STZ )  .  Hypoglycemic activity of the extracts was examined in streptozotocin - induced diabetic rats .     MATERIALS AND METHODS For this purpose ,  pre - prandial blood sugar ,  insulin and glycated hemoglobin levels were measured .  To investigate active substances that were responsible for the antidiabetic activity ,  phytochemical analysis was carried out with optimized and validated LC - MS / MS method using 53 phytochemicals in JT - FE .  In addition ,  ICP - OES analysis was performed to determine the mineral content .     RESULTS The findings of the study demonstrate that when insulin and JT - FE applied groups were compared with the diabetic control group ,  their blood sugar and glycated hemoglobin levels were seen to statistically decrease  ( p  <  0 , 001 )  .  Morewer ,  When JT - FE treated groups were compared with insulin - treated groups ,  a statistically decrease  ( p  <  0 , 05 )  in their levels was observed .  On the other hand ,  it was also found that the increase in extract concentration didn ' t contribute significantly to antidiabetic activity .  As a result of the phytochemical analysis ,  total of 31 different phenolic compounds were defined in JT - FE .  The major components of JT - FE  ( as analyte / g extract )  were ;  rutin  ( 98753 . 4  +  -  24 . 39 mg )  ,  catechin  ( 58695 . 3  +  -  12 . 971 mg )  ,  hesperidin  ( 47445 . 2  +  -  15 . 894 mg )  ,  quinic acid  ( 38279 . 5  +  -  14 . 239 mg )  and malic acid  ( 17536 . 8  +  -  2 . 279 mg )  .  In the mineral analysis we made ;  Sodium ,  calcium ,  magnesium and phosphorus elements were found at macro level ,  Zn and Cr3 +  minerals were found at trace level .     CONCLUSION Our findings show that JT - FE ,  prepared by decoction ,  is rich in phenolic and mineral content and strong in antihyperglycemic activity .  That ' s why Jerusalem thorn fruits can be a useful antidiabetic phytotherapy agent . \"}"
      ]
     },
     "execution_count": 11,
     "metadata": {},
     "output_type": "execute_result"
    }
   ],
   "source": [
    "result"
   ]
  },
  {
   "cell_type": "code",
   "execution_count": 12,
   "metadata": {},
   "outputs": [
    {
     "name": "stdout",
     "output_type": "stream",
     "text": [
      "Bioactive component analysis and investigation of antidiabetic effect of Jerusalem thorn  ( Paliurus spina - christi )  fruits in diabetic rats induced by streptozotocin .  ETHNOPHARMACOLOGICAL RELEVANCE The extracts of Jerusalem thorn fruits  ( JT - FE )  have been commonly used for the treatment of diabetes mellitus in Turkey .     AIM OF THE STUDY In this study ,  it is aimed to investigate the effects of the JT - FE ,  prepared by decoction ,  on blood glucose ,  insulin and glycated haemoglobin levels of diabetic rats induced with streptozotocin  ( STZ )  .  Hypoglycemic activity of the extracts was examined in streptozotocin - induced diabetic rats .     MATERIALS AND METHODS For this purpose ,  pre - prandial blood sugar ,  insulin and glycated hemoglobin levels were measured .  To investigate active substances that were responsible for the antidiabetic activity ,  phytochemical analysis was carried out with optimized and validated LC - MS / MS method using 53 phytochemicals in JT - FE .  In addition ,  ICP - OES analysis was performed to determine the mineral content .     RESULTS The findings of the study demonstrate that when insulin and JT - FE applied groups were compared with the diabetic control group ,  their blood sugar and glycated hemoglobin levels were seen to statistically decrease  ( p  <  0 , 001 )  .  Morewer ,  When JT - FE treated groups were compared with insulin - treated groups ,  a statistically decrease  ( p  <  0 , 05 )  in their levels was observed .  On the other hand ,  it was also found that the increase in extract concentration didn ' t contribute significantly to antidiabetic activity .  As a result of the phytochemical analysis ,  total of 31 different phenolic compounds were defined in JT - FE .  The major components of JT - FE  ( as analyte / g extract )  were ;  rutin  ( 98753 . 4  +  -  24 . 39 mg )  ,  catechin  ( 58695 . 3  +  -  12 . 971 mg )  ,  hesperidin  ( 47445 . 2  +  -  15 . 894 mg )  ,  quinic acid  ( 38279 . 5  +  -  14 . 239 mg )  and malic acid  ( 17536 . 8  +  -  2 . 279 mg )  .  In the mineral analysis we made ;  Sodium ,  calcium ,  magnesium and phosphorus elements were found at macro level ,  Zn and Cr3 +  minerals were found at trace level .     CONCLUSION Our findings show that JT - FE ,  prepared by decoction ,  is rich in phenolic and mineral content and strong in antihyperglycemic activity .  That ' s why Jerusalem thorn fruits can be a useful antidiabetic phytotherapy agent . \n"
     ]
    }
   ],
   "source": [
    "\n",
    "# Print the result\n",
    "print(result['value'])"
   ]
  }
 ],
 "metadata": {
  "kernelspec": {
   "display_name": "events",
   "language": "python",
   "name": "python3"
  },
  "language_info": {
   "codemirror_mode": {
    "name": "ipython",
    "version": 3
   },
   "file_extension": ".py",
   "mimetype": "text/x-python",
   "name": "python",
   "nbconvert_exporter": "python",
   "pygments_lexer": "ipython3",
   "version": "3.8.16"
  },
  "orig_nbformat": 4
 },
 "nbformat": 4,
 "nbformat_minor": 2
}
