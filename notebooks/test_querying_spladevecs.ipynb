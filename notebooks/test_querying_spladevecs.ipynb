{
 "cells": [
  {
   "cell_type": "code",
   "execution_count": 1,
   "metadata": {},
   "outputs": [
    {
     "name": "stderr",
     "output_type": "stream",
     "text": [
      "/home/julio/anaconda3/envs/events/lib/python3.8/site-packages/tqdm/auto.py:21: TqdmWarning: IProgress not found. Please update jupyter and ipywidgets. See https://ipywidgets.readthedocs.io/en/stable/user_install.html\n",
      "  from .autonotebook import tqdm as notebook_tqdm\n"
     ]
    }
   ],
   "source": [
    "from sklearn.neighbors import NearestNeighbors\n",
    "import numpy as np\n",
    "import json\n",
    "from transformers import AutoModelForMaskedLM, AutoTokenizer\n",
    "import torch\n",
    "from sklearn.decomposition import TruncatedSVD"
   ]
  },
  {
   "cell_type": "code",
   "execution_count": 2,
   "metadata": {},
   "outputs": [],
   "source": [
    "model_id = 'naver/splade-cocondenser-ensembledistil'\n",
    "\n",
    "tokenizer = AutoTokenizer.from_pretrained(model_id)\n",
    "model = AutoModelForMaskedLM.from_pretrained(model_id)"
   ]
  },
  {
   "cell_type": "code",
   "execution_count": 3,
   "metadata": {},
   "outputs": [],
   "source": [
    "\n",
    "\n",
    "def get_sparse_vec(text):\n",
    "    tokens = tokenizer(text, return_tensors='pt')\n",
    "    output = model(**tokens)\n",
    "    vec = torch.max(\n",
    "    torch.log(1 + torch.relu(output.logits)) * tokens.attention_mask.unsqueeze(-1),dim=1\n",
    "    )[0].squeeze()\n",
    "\n",
    "    # print(vec.shape)\n",
    "    return vec\n",
    "\n"
   ]
  },
  {
   "cell_type": "code",
   "execution_count": 4,
   "metadata": {},
   "outputs": [
    {
     "data": {
      "text/plain": [
       "tensor([0., 0., 0.,  ..., 0., 0., 0.], grad_fn=<SqueezeBackward0>)"
      ]
     },
     "execution_count": 4,
     "metadata": {},
     "output_type": "execute_result"
    }
   ],
   "source": [
    "text = 'Cell Culture MDCK, MDCK-pTR GFP-RasV12, and MDCK-pTR GFP-cSrcY527F cells were cultured as previously described 10 19 .'\n",
    "\n",
    "get_sparse_vec(text)"
   ]
  },
  {
   "cell_type": "code",
   "execution_count": 5,
   "metadata": {},
   "outputs": [],
   "source": [
    "# Load your data from a JSON file\n",
    "with open(\"/home/julio/repos/event_finder/data/pubmed_70s/cg/events_graph.json\", \"r\") as read_file:\n",
    "    json_data = json.load(read_file)\n"
   ]
  },
  {
   "cell_type": "code",
   "execution_count": 6,
   "metadata": {},
   "outputs": [],
   "source": [
    "\n",
    "# Generate the text data by concatenating the node names\n",
    "data = {}\n",
    "for graph in json_data:\n",
    "    id = graph['id']\n",
    "    text = ' '.join(node['name'] for node in graph['nodes'])\n",
    "    data[id] = text"
   ]
  },
  {
   "cell_type": "code",
   "execution_count": null,
   "metadata": {},
   "outputs": [],
   "source": [
    "# Generate sparse vectors for all texts\n",
    "# This line takes a lot of RAM and CPUS \n",
    "sparse_vectors = {id: get_sparse_vec(text) for id, text in data.items()}\n"
   ]
  },
  {
   "cell_type": "code",
   "execution_count": 7,
   "metadata": {},
   "outputs": [
    {
     "data": {
      "text/plain": [
       "222009"
      ]
     },
     "execution_count": 7,
     "metadata": {},
     "output_type": "execute_result"
    }
   ],
   "source": [
    "len(data)"
   ]
  },
  {
   "cell_type": "code",
   "execution_count": null,
   "metadata": {},
   "outputs": [],
   "source": [
    "\n",
    "# Create a list of vectors and a corresponding list of IDs\n",
    "vectors = list(sparse_vectors.values())\n",
    "ids = list(sparse_vectors.keys())\n"
   ]
  },
  {
   "cell_type": "code",
   "execution_count": null,
   "metadata": {},
   "outputs": [],
   "source": [
    "# Use TruncatedSVD to reduce the dimensionality of the vectors\n",
    "svd = TruncatedSVD(n_components=128, random_state=42)\n",
    "vectors_svd = svd.fit_transform(vectors)\n",
    "\n",
    "# Create a NearestNeighbors instance\n",
    "# nbrs = NearestNeighbors(n_neighbors=1, algorithm='ball_tree').fit(vectors)\n"
   ]
  },
  {
   "cell_type": "code",
   "execution_count": null,
   "metadata": {},
   "outputs": [],
   "source": [
    "\n",
    "# Now, suppose you have a new piece of text, and you want to find the\n",
    "# most similar text in your original data:\n",
    "query = \"query text\"\n",
    "\n",
    "# Generate a sparse vector for the query\n",
    "query_vector = get_sparse_vec(query)\n",
    "\n",
    "# Query the model to get the index of the most similar vector\n",
    "distances, indices = nbrs.kneighbors([query_vector])\n",
    "\n",
    "# Get the ID of the most similar text\n",
    "most_similar_id = ids[indices[0][0]]\n",
    "\n",
    "print(\"The most similar text to the query is: \", data[most_similar_id])"
   ]
  }
 ],
 "metadata": {
  "kernelspec": {
   "display_name": "events",
   "language": "python",
   "name": "python3"
  },
  "language_info": {
   "codemirror_mode": {
    "name": "ipython",
    "version": 3
   },
   "file_extension": ".py",
   "mimetype": "text/x-python",
   "name": "python",
   "nbconvert_exporter": "python",
   "pygments_lexer": "ipython3",
   "version": "3.8.16"
  },
  "orig_nbformat": 4
 },
 "nbformat": 4,
 "nbformat_minor": 2
}
