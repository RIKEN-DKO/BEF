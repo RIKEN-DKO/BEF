{
 "cells": [
  {
   "cell_type": "code",
   "execution_count": 1,
   "metadata": {},
   "outputs": [],
   "source": [
    "%load_ext autoreload\n",
    "%autoreload 2\n"
   ]
  },
  {
   "cell_type": "code",
   "execution_count": 2,
   "metadata": {},
   "outputs": [],
   "source": [
    "from dkouqe.document_retrieval.multiple_search import (MultipleRetrievalManager, MergeStrategy,\n",
    "                             MultipleOntologiesManager, SortByBestScore)\n",
    "                             \n",
    "\n",
    "from dkouqe.document_retrieval.semantic_search import FaissIndex, VectorSearch, SearchContext,SearchType\n",
    "import os\n",
    "from sentence_transformers import SentenceTransformer\n",
    "\n",
    "import json\n",
    "from bef.search_utils import (vector_search,\n",
    "                              search_and_print, search_apply_kernel,)\n",
    "from bef.vector_utils import transform_and_normalize\n",
    "\n",
    "\n",
    "import faiss\n",
    "import pickle\n",
    "import numpy as np\n",
    "from typing import Dict"
   ]
  },
  {
   "cell_type": "code",
   "execution_count": 3,
   "metadata": {},
   "outputs": [],
   "source": [
    "DIR = '/home/julio/repos/event_finder/data/pubmed_full/results/cg/'\n",
    "\n"
   ]
  },
  {
   "cell_type": "code",
   "execution_count": 4,
   "metadata": {},
   "outputs": [],
   "source": [
    "# BERT_MODEL = 'all-mpnet-base-v2'\n",
    "BERT_MODEL = 'all-MiniLM-L12-v2'\n",
    "sentence_emb_model = SentenceTransformer(BERT_MODEL)\n"
   ]
  },
  {
   "cell_type": "code",
   "execution_count": 5,
   "metadata": {},
   "outputs": [],
   "source": [
    "class VectorSearchDimRedu(SearchType):\n",
    "\n",
    "    def retrieve_records(self, query, model, index,kernel,bias, num_results=10):\n",
    "        \"\"\"Tranforms query to vector using a pretrained, sentence-level \n",
    "        DistilBERT model and finds similar vectors using FAISS.\n",
    "        Args:\n",
    "            query (str): User query that should be more than a sentence long.\n",
    "            model (sentence_transformers.SentenceTransformer.SentenceTransformer)\n",
    "            index (`numpy.ndarray`): FAISS index that needs to be deserialized.\n",
    "            num_results (int): Number of results to return.\n",
    "        Returns:\n",
    "            D (:obj:`numpy.array` of `float`): Distance between results and query.\n",
    "            I (:obj:`numpy.array` of `int`): Paper ID of the results.\n",
    "        \n",
    "        \"\"\"\n",
    "        vector = model.encode([query])\n",
    "\n",
    "        vector = transform_and_normalize(vector, kernel, bias)\n",
    "        distances, ids = index.search(np.array(vector).astype(\"float32\"), k=num_results)\n",
    "\n",
    "        return distances.flatten(), ids.flatten()\n"
   ]
  },
  {
   "cell_type": "code",
   "execution_count": 6,
   "metadata": {},
   "outputs": [],
   "source": [
    "class FaissIndexGraphEventsDimRedu(SearchContext):\n",
    "    \"\"\"Contains and faiss index and the ontology \n",
    "    \"\"\"\n",
    "    #TODO use dataclass\n",
    "    def __init__(self, \n",
    "        search_type, \n",
    "        graphs_file, \n",
    "        index_file, \n",
    "        embedding_model,\n",
    "        kernel,\n",
    "        bias\n",
    "        ) -> None:\n",
    "\n",
    "        self._search_type = search_type\n",
    "        self._embedding_model = embedding_model\n",
    "        self.kernel = kernel\n",
    "        self.bias = bias\n",
    "        self._is_active = True\n",
    "        print('Loading graph ...')\n",
    "        self.graphs = []\n",
    "        #loading with no embeddings\n",
    "        # with open(DATA_DIR + 'graphs.json') as ff:\n",
    "        with open(graphs_file) as ff:\n",
    "            for g in json.load(ff):\n",
    "                # for node in g['nodes']:\n",
    "                #     node.pop('embedding')\n",
    "                self.graphs.append(g)\n",
    "\n",
    "        self.index = faiss.read_index(index_file)\n",
    "\n",
    "    def retrieve_records(self, query: str, num_docs: int):\n",
    "        distances, ids = self._search_type.retrieve_records(query,\n",
    "                                                            self._embedding_model,\n",
    "                                                            self.index, \n",
    "                                                            self.kernel,\n",
    "                                                            self.bias,\n",
    "                                                            num_docs)\n",
    "\n",
    "        results = {}\n",
    "        results['faiss_scores'] = distances\n",
    "        results['records_ids'] = ids\n",
    "        # results['nodes'] = \n",
    "        return results\n",
    "\n",
    "\n",
    "    def search_and_print_ontology(self, query: str, num_docs: int, sentence_emb_model,kernel,bias) -> None:\n",
    "        \"\"\"Search and print the ontology, for debuging.\n",
    "\n",
    "        Args:\n",
    "            query (str): [description]\n",
    "            num_docs (int): [description]\n",
    "        \"\"\"\n",
    "        search_apply_kernel(query, self._embedding_model,\n",
    "                            self.index, self.graphs, kernel, bias)\n",
    "\n",
    "\n"
   ]
  },
  {
   "cell_type": "code",
   "execution_count": 7,
   "metadata": {},
   "outputs": [
    {
     "name": "stdout",
     "output_type": "stream",
     "text": [
      "Loading graph ...\n",
      "Loading graph ...\n",
      "Loading graph ...\n"
     ]
    }
   ],
   "source": [
    "# years = ['2000','2001','2002']\n",
    "years = [str(i) for i in range(2000,2003)]\n",
    "strategy = VectorSearchDimRedu()\n",
    "emb = sentence_emb_model\n",
    "seekers = {}\n",
    "BASE_DIR = '../data/pubmed_full/results/cg/'\n",
    "for year in years:\n",
    "    graphs_file = os.path.join(BASE_DIR, 'graph_pubmed_' + year + '.json')\n",
    "    #Check existence\n",
    "\n",
    "    index_file = os.path.join(BASE_DIR, 'graph_pubmed_' + year + '.index')\n",
    "\n",
    "    with open(os.path.join(BASE_DIR, 'graph_pubmed_' + year + '.kernel'), 'rb') as handle:\n",
    "        kernel = pickle.load(handle)\n",
    "\n",
    "    with open(os.path.join(BASE_DIR, 'graph_pubmed_' + year + '.bias'), 'rb') as handle:\n",
    "        bias = pickle.load(handle)\n",
    "\n",
    "    # graph = obonet.read_obo(url)\n",
    "    seek_args = {'search_type': strategy,\n",
    "                 'index_file': index_file,\n",
    "                 'embedding_model': emb,\n",
    "                 'kernel':kernel,\n",
    "                 'bias':bias,\n",
    "                 'graphs_file': graphs_file}\n",
    "\n",
    "    seekers[year] = FaissIndexGraphEventsDimRedu(**seek_args)\n"
   ]
  },
  {
   "cell_type": "code",
   "execution_count": 8,
   "metadata": {},
   "outputs": [],
   "source": [
    "# import traceback\n",
    "# try:\n",
    "#     seekers['2000'].retrieve_records('the acetycholine produces catabolism', 5)\n",
    "# except:\n",
    "#     traceback.print_exc()\n"
   ]
  },
  {
   "cell_type": "code",
   "execution_count": 9,
   "metadata": {},
   "outputs": [
    {
     "data": {
      "text/plain": [
       "{'faiss_scores': array([0.74260783, 0.74260783, 0.7528304 , 0.77426314, 0.7861366 ],\n",
       "       dtype=float32),\n",
       " 'records_ids': array([ 410983,  410984,  994276, 1389012, 1246086])}"
      ]
     },
     "execution_count": 9,
     "metadata": {},
     "output_type": "execute_result"
    }
   ],
   "source": [
    "seekers['2000'].retrieve_records('the acetycholine produces catabolism', 5)\n"
   ]
  },
  {
   "cell_type": "code",
   "execution_count": 22,
   "metadata": {},
   "outputs": [],
   "source": [
    "class MultipleGraphIndexManager(MultipleOntologiesManager):\n",
    "    \"\"\"Handles when we want to retrieve information from multiple index\n",
    "    \"\"\"\n",
    "\n",
    "    def __init__(self, *args, **kwargs) -> None:\n",
    "        super().__init__(*args, **kwargs)\n",
    "        self._results = self.empty_results()\n",
    "\n",
    "\n",
    "    def retrieve_records(self, query: str, num_docs: int) -> Dict:\n",
    "        # results = self._results\n",
    "        #TODO numdocs should be specific for each seeker?\n",
    "        self._results = self.empty_results()\n",
    "        for name, seeker in self._seekers.items():\n",
    "            if seeker._is_active:\n",
    "                new_results = seeker.retrieve_records(query, num_docs)\n",
    "                if 'faiss_scores' in new_results:\n",
    "\n",
    "                    self._results['scores'] = np.concatenate(\n",
    "                        [self._results['scores'], new_results['faiss_scores']])\n",
    "                    self._results['records_ids'] = np.concatenate(\n",
    "                        [self._results['records_ids'],\n",
    "                         new_results['records_ids']])\n",
    "\n",
    "                    new_refs = [seeker] * len(new_results['faiss_scores'])\n",
    "                    self._results['seeker_ref'] += new_refs\n",
    "\n",
    "                    graphs = seeker.graphs\n",
    "                    nodes = []\n",
    "                    for id_ in new_results['records_ids']:\n",
    "                        node = graphs[id_]['nodes']\n",
    "                        nodes.append(node)\n",
    "                    # self._results['nodes'] = np.concatenate(\n",
    "                    #     [self._results['nodes'], nodes])\n",
    "                    self._results['nodes'] += nodes\n",
    "                                \n",
    "        self._results = self.merge_strategy.merge_records(self._results, query)\n",
    "        return self._results\n"
   ]
  },
  {
   "cell_type": "code",
   "execution_count": 23,
   "metadata": {},
   "outputs": [
    {
     "data": {
      "text/plain": [
       "{'2000': <__main__.FaissIndexGraphEventsDimRedu at 0x7f4e94443730>,\n",
       " '2001': <__main__.FaissIndexGraphEventsDimRedu at 0x7f4e94443b50>,\n",
       " '2002': <__main__.FaissIndexGraphEventsDimRedu at 0x7f4d2ed4afa0>}"
      ]
     },
     "execution_count": 23,
     "metadata": {},
     "output_type": "execute_result"
    }
   ],
   "source": [
    "merge_strategy1 = SortByBestScore()\n",
    "merge_strategy_descending = SortByBestScore(ascending=True)\n",
    "mseeker = MultipleGraphIndexManager(seekers, merge_strategy1)\n",
    "mseeker._seekers\n"
   ]
  },
  {
   "cell_type": "code",
   "execution_count": 24,
   "metadata": {},
   "outputs": [],
   "source": [
    "# mseeker._seekers['2000']._is_active = True\n",
    "# mseeker._seekers['2001']._is_active = True\n",
    "# mseeker._seekers['2002']._is_active = True\n"
   ]
  },
  {
   "cell_type": "code",
   "execution_count": 28,
   "metadata": {},
   "outputs": [],
   "source": [
    "# res = mseeker.retrieve_records('the acetycholine produces catabolism', 5)\n",
    "res = mseeker.retrieve_records('melanoma', 5)\n"
   ]
  },
  {
   "cell_type": "code",
   "execution_count": 29,
   "metadata": {},
   "outputs": [
    {
     "name": "stdout",
     "output_type": "stream",
     "text": [
      "{'scores': array([0.25744694, 0.26700145, 0.27029008, 0.27031076, 0.27691984,\n",
      "       0.27691984, 0.27691984, 0.27713156, 0.27765232, 0.27765232,\n",
      "       0.28131837, 0.28131837, 0.30437818, 0.30537075, 0.30699319]), 'records_ids': array([ 659612.,  876146., 1205325.,  680141.,  587142., 1500301.,\n",
      "        847348., 1455204.,  148631.,  997861.,   74126.,  837122.,\n",
      "        643174.,   98909.,  723237.]), 'seeker_ref': array([<__main__.FaissIndexGraphEventsDimRedu object at 0x7f4e94443b50>,\n",
      "       <__main__.FaissIndexGraphEventsDimRedu object at 0x7f4e94443730>,\n",
      "       <__main__.FaissIndexGraphEventsDimRedu object at 0x7f4e94443b50>,\n",
      "       <__main__.FaissIndexGraphEventsDimRedu object at 0x7f4e94443b50>,\n",
      "       <__main__.FaissIndexGraphEventsDimRedu object at 0x7f4e94443730>,\n",
      "       <__main__.FaissIndexGraphEventsDimRedu object at 0x7f4e94443730>,\n",
      "       <__main__.FaissIndexGraphEventsDimRedu object at 0x7f4e94443730>,\n",
      "       <__main__.FaissIndexGraphEventsDimRedu object at 0x7f4e94443730>,\n",
      "       <__main__.FaissIndexGraphEventsDimRedu object at 0x7f4d2ed4afa0>,\n",
      "       <__main__.FaissIndexGraphEventsDimRedu object at 0x7f4d2ed4afa0>,\n",
      "       <__main__.FaissIndexGraphEventsDimRedu object at 0x7f4d2ed4afa0>,\n",
      "       <__main__.FaissIndexGraphEventsDimRedu object at 0x7f4d2ed4afa0>,\n",
      "       <__main__.FaissIndexGraphEventsDimRedu object at 0x7f4e94443b50>,\n",
      "       <__main__.FaissIndexGraphEventsDimRedu object at 0x7f4e94443b50>,\n",
      "       <__main__.FaissIndexGraphEventsDimRedu object at 0x7f4d2ed4afa0>],\n",
      "      dtype=object), 'nodes': array([[{'type': 'Localization', 'name': 'present\\n', 'id': 'T10'},\n",
      "        {'type': 'Cancer', 'name': 'melanoma\\n', 'id': 'T8'}],\n",
      "       [{'type': 'Cancer', 'name': 'melanoma\\n', 'id': 'T15'},\n",
      "        {'type': 'Development', 'name': 'arise\\n', 'id': 'T24'}],\n",
      "       [{'type': 'Cancer', 'name': 'melanoma\\n', 'id': 'T37'},\n",
      "        {'type': 'Development', 'name': 'occurrence\\n', 'id': 'T55'}],\n",
      "       [{'type': 'Cancer', 'name': 'melanoma\\n', 'id': 'T9'},\n",
      "        {'type': 'Development', 'name': 'occurrence\\n', 'id': 'T23'}],\n",
      "       [{'type': 'Cancer', 'name': 'melanomas\\n', 'id': 'T22'},\n",
      "        {'type': 'Mutation', 'name': 'LOH\\n', 'id': 'T31'}],\n",
      "       [{'type': 'Cancer', 'name': 'melanomas\\n', 'id': 'T14'},\n",
      "        {'type': 'Mutation', 'name': 'LOH\\n', 'id': 'T31'}],\n",
      "       [{'type': 'Cancer', 'name': 'melanomas\\n', 'id': 'T27'},\n",
      "        {'type': 'Mutation', 'name': 'LOH\\n', 'id': 'T44'}],\n",
      "       [{'type': 'Development', 'name': 'occurrence\\n', 'id': 'T20'},\n",
      "        {'type': 'Cancer', 'name': 'melanoma\\n', 'id': 'T17'}],\n",
      "       [{'type': 'Cancer', 'name': 'melanoma\\n', 'id': 'T6'},\n",
      "        {'type': 'Development', 'name': 'occurrence\\n', 'id': 'T60'}],\n",
      "       [{'type': 'Cancer', 'name': 'melanoma\\n', 'id': 'T2'},\n",
      "        {'type': 'Development', 'name': 'occurrence\\n', 'id': 'T5'}],\n",
      "       [{'type': 'Development', 'name': 'occurrence\\n', 'id': 'T12'},\n",
      "        {'type': 'Cancer', 'name': 'melanoma\\n', 'id': 'T4'}],\n",
      "       [{'type': 'Development', 'name': 'occurrence\\n', 'id': 'T50'},\n",
      "        {'type': 'Cancer', 'name': 'melanoma\\n', 'id': 'T41'}],\n",
      "       [{'type': 'Planned_process', 'name': 'established\\n', 'id': 'T46'},\n",
      "        {'type': 'Cancer', 'name': 'melanoma\\n', 'id': 'T33'}],\n",
      "       [{'type': 'Cancer', 'name': 'melanoma\\n', 'id': 'T50'},\n",
      "        {'type': 'Negative_regulation', 'name': 'activity\\n', 'id': 'T77'}],\n",
      "       [{'type': 'Death', 'name': 'death\\n', 'id': 'T22'},\n",
      "        {'type': 'Cancer', 'name': 'melanoma\\n', 'id': 'T3'}]],\n",
      "      dtype=object)}\n"
     ]
    }
   ],
   "source": [
    "print(res)"
   ]
  },
  {
   "cell_type": "code",
   "execution_count": 30,
   "metadata": {},
   "outputs": [
    {
     "name": "stderr",
     "output_type": "stream",
     "text": [
      "/home/julio/repos/dkouqe/dkouqe/document_retrieval/multiple_search.py:58: VisibleDeprecationWarning: Creating an ndarray from ragged nested sequences (which is a list-or-tuple of lists-or-tuples-or ndarrays with different lengths or shapes) is deprecated. If you meant to do this, you must specify 'dtype=object' when creating the ndarray.\n",
      "  results[key] = np.array(val)[idx]\n"
     ]
    }
   ],
   "source": [
    "# res = mseeker.retrieve_records('the acetycholine produces catabolism', 5)\n",
    "res = mseeker.retrieve_records('gut microbiome HIV infection', 5)\n"
   ]
  },
  {
   "cell_type": "code",
   "execution_count": 31,
   "metadata": {},
   "outputs": [
    {
     "data": {
      "text/plain": [
       "{'scores': array([0.53720975, 0.72387248, 0.73587126, 0.73791671, 0.77120394,\n",
       "        0.77847654, 0.77988464, 0.77988464, 0.77988464, 0.77988464,\n",
       "        0.77988464, 0.7800796 , 0.78015149, 0.78419787, 0.78458649]),\n",
       " 'records_ids': array([1018148.,  922531.,  861727.,  410088.,  488989.,  232619.,\n",
       "         536810.,  638952.,  642068.,  957312.,  425604.,  618016.,\n",
       "        1222098.,  139086.,  475011.]),\n",
       " 'seeker_ref': array([<__main__.FaissIndexGraphEventsDimRedu object at 0x7f4e94443730>,\n",
       "        <__main__.FaissIndexGraphEventsDimRedu object at 0x7f4e94443b50>,\n",
       "        <__main__.FaissIndexGraphEventsDimRedu object at 0x7f4e94443730>,\n",
       "        <__main__.FaissIndexGraphEventsDimRedu object at 0x7f4e94443730>,\n",
       "        <__main__.FaissIndexGraphEventsDimRedu object at 0x7f4e94443730>,\n",
       "        <__main__.FaissIndexGraphEventsDimRedu object at 0x7f4e94443b50>,\n",
       "        <__main__.FaissIndexGraphEventsDimRedu object at 0x7f4d2ed4afa0>,\n",
       "        <__main__.FaissIndexGraphEventsDimRedu object at 0x7f4d2ed4afa0>,\n",
       "        <__main__.FaissIndexGraphEventsDimRedu object at 0x7f4d2ed4afa0>,\n",
       "        <__main__.FaissIndexGraphEventsDimRedu object at 0x7f4d2ed4afa0>,\n",
       "        <__main__.FaissIndexGraphEventsDimRedu object at 0x7f4d2ed4afa0>,\n",
       "        <__main__.FaissIndexGraphEventsDimRedu object at 0x7f4e94443b50>,\n",
       "        <__main__.FaissIndexGraphEventsDimRedu object at 0x7f4e94443b50>,\n",
       "        <__main__.FaissIndexGraphEventsDimRedu object at 0x7f4e94443730>,\n",
       "        <__main__.FaissIndexGraphEventsDimRedu object at 0x7f4e94443b50>],\n",
       "       dtype=object),\n",
       " 'nodes': array([list([{'type': 'Organ', 'name': 'gastrointestinal tract\\n', 'id': 'T5'}, {'type': 'Regulation', 'name': 'effects\\n', 'id': 'T30'}, {'type': 'Gene_or_gene_product', 'name': 'HIV\\n', 'id': 'T4'}]),\n",
       "        list([{'type': 'Infection', 'name': 'infection\\n', 'id': 'T24'}, {'type': 'Cell', 'name': 'gut cells\\n', 'id': 'T5'}]),\n",
       "        list([{'type': 'Cell', 'name': 'intestinal lymphocytes\\n', 'id': 'T8'}, {'type': 'Organism', 'name': 'X4 - HIV particles\\n', 'id': 'T10'}, {'type': 'Infection', 'name': 'infection\\n', 'id': 'T43'}]),\n",
       "        list([{'type': 'Organ', 'name': 'gut\\n', 'id': 'T25'}, {'type': 'Infection', 'name': 'infected\\n', 'id': 'T46'}]),\n",
       "        list([{'type': 'Planned_process', 'name': 'treat\\n', 'id': 'T9'}, {'type': 'Infection', 'name': 'infection\\n', 'id': 'T10'}, {'type': 'Organism', 'name': 'HIV\\n', 'id': 'T4'}]),\n",
       "        list([{'type': 'Gene_or_gene_product', 'name': 'HIV\\n', 'id': 'T9'}, {'type': 'Simple_chemical', 'name': 'HIV\\n', 'id': 'T10'}, {'type': 'Planned_process', 'name': 'exposure\\n', 'id': 'T27'}]),\n",
       "        list([{'type': 'Infection', 'name': 'infection\\n', 'id': 'T33'}, {'type': 'Organism', 'name': 'HIV\\n', 'id': 'T6'}]),\n",
       "        list([{'type': 'Infection', 'name': 'infection\\n', 'id': 'T27'}, {'type': 'Organism', 'name': 'HIV\\n', 'id': 'T14'}]),\n",
       "        list([{'type': 'Infection', 'name': 'infection\\n', 'id': 'T28'}, {'type': 'Organism', 'name': 'HIV\\n', 'id': 'T9'}]),\n",
       "        list([{'type': 'Infection', 'name': 'infection\\n', 'id': 'T43'}, {'type': 'Organism', 'name': 'HIV\\n', 'id': 'T16'}]),\n",
       "        list([{'type': 'Infection', 'name': 'infection\\n', 'id': 'T8'}, {'type': 'Organism', 'name': 'HIV\\n', 'id': 'T3'}]),\n",
       "        list([{'type': 'Infection', 'name': 'infected\\n', 'id': 'T44'}, {'type': 'Organism', 'name': 'HIV\\n', 'id': 'T12'}, {'type': 'Cell', 'name': 'cells\\n', 'id': 'T13'}]),\n",
       "        list([{'type': 'Infection', 'name': 'infected\\n', 'id': 'T69'}, {'type': 'Organism', 'name': 'HIV\\n', 'id': 'T34'}, {'type': 'Cell', 'name': 'cells\\n', 'id': 'T35'}]),\n",
       "        list([{'type': 'Organism', 'name': 'HIV\\n', 'id': 'T19'}, {'type': 'Infection', 'name': 'infected\\n', 'id': 'T34'}, {'type': 'Organism', 'name': 'humans\\n', 'id': 'T20'}]),\n",
       "        list([{'type': 'Infection', 'name': 'infection\\n', 'id': 'T9'}, {'type': 'Organism', 'name': 'HIV\\n', 'id': 'T2'}])],\n",
       "       dtype=object)}"
      ]
     },
     "execution_count": 31,
     "metadata": {},
     "output_type": "execute_result"
    }
   ],
   "source": [
    "res"
   ]
  },
  {
   "cell_type": "code",
   "execution_count": 27,
   "metadata": {},
   "outputs": [
    {
     "name": "stdout",
     "output_type": "stream",
     "text": [
      "id  51423.0\n",
      "score  0.04396906495094299\n",
      "array([{'type': 'Cell', 'name': 'Monocyte - derived macrophages\\n', 'id': 'T9'},\n",
      "       {'type': 'Planned_process', 'name': 'obtained\\n', 'id': 'T41'}],\n",
      "      dtype=object)\n",
      "id  187973.0\n",
      "score  0.07727345824241638\n",
      "array([{'type': 'Planned_process', 'name': 'isolated\\n', 'id': 'T74'},\n",
      "       {'type': 'Cell', 'name': 'monocyte - derived macrophages\\n', 'id': 'T24'}],\n",
      "      dtype=object)\n",
      "id  407890.0\n",
      "score  0.09024284780025482\n",
      "array([{'type': 'Cell', 'name': 'monocyte - derived macrophages\\n', 'id': 'T19'},\n",
      "       {'type': 'Cell_proliferation', 'name': 'grown\\n', 'id': 'T25'}],\n",
      "      dtype=object)\n",
      "id  187971.0\n",
      "score  0.09292612224817276\n",
      "array([{'type': 'Cell', 'name': 'monocyte - derived macrophages\\n', 'id': 'T13'},\n",
      "       {'type': 'Planned_process', 'name': 'isolated\\n', 'id': 'T63'}],\n",
      "      dtype=object)\n",
      "id  705331.0\n",
      "score  0.112118199467659\n",
      "array([{'type': 'Cell', 'name': 'monocyte - derived macrophages\\n', 'id': 'T3'},\n",
      "       {'type': 'Positive_regulation', 'name': 'activated\\n', 'id': 'T21'}],\n",
      "      dtype=object)\n",
      "id  350525.0\n",
      "score  0.11593173444271088\n",
      "array([{'type': 'Cell', 'name': 'monocyte - derived macrophages\\n', 'id': 'T12'},\n",
      "       {'type': 'Planned_process', 'name': 'labeled\\n', 'id': 'T53'}],\n",
      "      dtype=object)\n",
      "id  1251909.0\n",
      "score  0.11739662289619446\n",
      "array([{'type': 'Positive_regulation', 'name': 'accumulation\\n', 'id': 'T45'},\n",
      "       {'type': 'Cell', 'name': 'monocyte - derived macrophages\\n', 'id': 'T22'}],\n",
      "      dtype=object)\n",
      "id  127210.0\n",
      "score  0.1278345137834549\n",
      "array([{'type': 'Cell', 'name': 'monocyte - derived macrophages\\n', 'id': 'T5'},\n",
      "       {'type': 'Positive_regulation', 'name': 'activate\\n', 'id': 'T28'}],\n",
      "      dtype=object)\n",
      "id  1230279.0\n",
      "score  0.14098431169986725\n",
      "array([{'type': 'Cell_differentiation', 'name': 'matured\\n', 'id': 'T91'},\n",
      "       {'type': 'Cell', 'name': 'Monocyte Derived Macrophages\\n', 'id': 'T25'}],\n",
      "      dtype=object)\n",
      "id  592698.0\n",
      "score  0.14406639337539673\n",
      "array([{'type': 'Cell', 'name': 'monocyte - derived macrophages\\n', 'id': 'T9'},\n",
      "       {'type': 'Cell_proliferation', 'name': 'proliferation\\n', 'id': 'T49'}],\n",
      "      dtype=object)\n",
      "id  932405.0\n",
      "score  0.14919792115688324\n",
      "array([{'type': 'Cell_differentiation', 'name': 'differentiated\\n', 'id': 'T51'},\n",
      "       {'type': 'Cell', 'name': 'monocyte - derived macrophages\\n', 'id': 'T4'}],\n",
      "      dtype=object)\n",
      "id  1334347.0\n",
      "score  0.16276070475578308\n",
      "array([{'type': 'Infection', 'name': 'infected\\n', 'id': 'T56'},\n",
      "       {'type': 'Cell', 'name': 'monocyte - derived macrophages\\n', 'id': 'T15'}],\n",
      "      dtype=object)\n",
      "id  391836.0\n",
      "score  0.1767536997795105\n",
      "array([{'type': 'Cell', 'name': 'monocyte - derived macrophages\\n', 'id': 'T24'},\n",
      "       {'type': 'Planned_process', 'name': 'transduced\\n', 'id': 'T53'}],\n",
      "      dtype=object)\n",
      "id  511422.0\n",
      "score  0.17853248119354248\n",
      "array([{'type': 'Cell', 'name': 'monocyte - derived macrophages\\n', 'id': 'T27'},\n",
      "       {'type': 'Cell_differentiation', 'name': 'differentiated\\n', 'id': 'T60'}],\n",
      "      dtype=object)\n",
      "id  728296.0\n",
      "score  0.19003146886825562\n",
      "array([{'type': 'Development', 'name': 'maturate\\n', 'id': 'T50'},\n",
      "       {'type': 'Cell', 'name': 'monocyte - derived macrophages\\n', 'id': 'T19'}],\n",
      "      dtype=object)\n"
     ]
    }
   ],
   "source": [
    "mseeker.print_results()\n"
   ]
  }
 ],
 "metadata": {
  "kernelspec": {
   "display_name": "Python 3.8.5 ('pytorch')",
   "language": "python",
   "name": "python3"
  },
  "language_info": {
   "codemirror_mode": {
    "name": "ipython",
    "version": 3
   },
   "file_extension": ".py",
   "mimetype": "text/x-python",
   "name": "python",
   "nbconvert_exporter": "python",
   "pygments_lexer": "ipython3",
   "version": "3.8.5"
  },
  "orig_nbformat": 4,
  "vscode": {
   "interpreter": {
    "hash": "6606c6fdba329aef57b9c3180ba0b52f275d542c703cd89ea26923bc270f74f7"
   }
  }
 },
 "nbformat": 4,
 "nbformat_minor": 2
}
