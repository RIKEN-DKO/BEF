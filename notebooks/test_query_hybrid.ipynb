{
 "cells": [
  {
   "cell_type": "code",
   "execution_count": 2,
   "metadata": {},
   "outputs": [],
   "source": [
    "%load_ext autoreload\n",
    "%autoreload 2\n"
   ]
  },
  {
   "cell_type": "code",
   "execution_count": 3,
   "metadata": {},
   "outputs": [],
   "source": [
    "from bef.search.bioevent_query_handler import BioEventData,BioEventQueryHandler,BioEventDataWithDB,MultiBioEventQueryHandler,BioEventQueryHandlerEL\n",
    "from bef.search.elasticsearch import ElasticSearchSeeker\n",
    "from bef.search.hybrid import HybridSeeker\n",
    "from bef.search.bioevent_query_handler import MultiHybridBioEventQueryHandler"
   ]
  },
  {
   "cell_type": "code",
   "execution_count": 28,
   "metadata": {},
   "outputs": [
    {
     "name": "stdout",
     "output_type": "stream",
     "text": [
      "Loading graph ...\n",
      "EL index: data_pubmed_2000s_id\n",
      "Loading graph ...\n",
      "EL index: data_pubmed_2000s_cg\n"
     ]
    }
   ],
   "source": [
    "mhybrid_seeker =MultiHybridBioEventQueryHandler(['id','cg'],data_path='../data/pubmed_2000s')"
   ]
  },
  {
   "cell_type": "code",
   "execution_count": null,
   "metadata": {},
   "outputs": [],
   "source": [
    "mhybrid_seeker.search(event_type='cg',query='melanoma' ,num_res=20,alpha=0.1)"
   ]
  },
  {
   "cell_type": "code",
   "execution_count": null,
   "metadata": {},
   "outputs": [],
   "source": [
    "mhybrid_seeker.search(event_type='id',query=' mesenchymal phenotype',num_res=20,alpha=0.9)"
   ]
  },
  {
   "cell_type": "code",
   "execution_count": 22,
   "metadata": {},
   "outputs": [
    {
     "name": "stdout",
     "output_type": "stream",
     "text": [
      "before: {'12722927': [{'name': 'malignant melanoma\\n', 'span': [316, 334]}, {'name': 'play a role\\n', 'span': [284, 295]}]}\n",
      "after [{'directed': True, 'multigraph': False, 'nodes': [{'type': 'Cancer', 'name': 'malignant melanoma\\n', 'id': 'T5', 'span': [316, 334]}, {'type': 'Regulation', 'name': 'play a role\\n', 'id': 'T6', 'span': [284, 295]}], 'links': [{'key': 'Theme', 'event_id': 'E1', 'source': 'T6', 'target': 'T5'}], 'id': 12722927}]\n"
     ]
    },
    {
     "data": {
      "text/plain": [
       "{'text': ' [ Epidemiology of malignant melanoma of the skin ]  . This is a short review on the epidemiology of malignant melanoma of the skin  ( ICD No .  172 )  .  Data on incidence and mortality in the German Democratic Republic are given .  Analysis of literature shows that genetic factors play a role in the causation of malignant melanoma but it seems that exogenous factors are far more important .  There is no doubt that exposition to sunlight is involved but it seems that there is no simple linear relationship between exposition and risk of disease . ',\n",
       " 'denotations': [{'id': 'T5',\n",
       "   'span': {'begin': 316, 'end': 334},\n",
       "   'obj': 'Cancer'},\n",
       "  {'id': 'T6', 'span': {'begin': 284, 'end': 295}, 'obj': 'Regulation'}],\n",
       " 'relations': [{'id': 'E1', 'pred': 'Theme', 'subj': 'T6', 'obj': 'T5'}]}"
      ]
     },
     "execution_count": 22,
     "metadata": {},
     "output_type": "execute_result"
    }
   ],
   "source": [
    "mhybrid_seeker.get_doc_annotations(event_type='cg',doc_id='4460956')"
   ]
  },
  {
   "cell_type": "code",
   "execution_count": 29,
   "metadata": {},
   "outputs": [
    {
     "data": {
      "text/plain": [
       "{'text': 'Acute respiratory distress syndrome .  Acute respiratory distress syndrome  ( ARDS )  can be associated with various disorders .  Among these ,  coronavirus infection may cause life - threatening severe acute respiratory syndrome  ( SARS )  .  In this review ,  we present animal models and techniques for the study of ARDS ,  and discuss the roles and possible mechanisms of various chemical factors ,  including nitric oxide  ( NO )  .  Our early work revealed that cerebral compression elicits severe hemorrhagic pulmonary edema  ( PE )  ,  leading to central sympathetic activation that results in systemic vasoconstriction .  The consequence of systemic vasoconstriction is volume and pressure loading in the pulmonary circulation .  Vasodilators ,  but not oxidant radical scavengers ,  are effective in the prevention of centrogenic PE .  In isolated perfused lung ,  exogenous and endogenous NO enhances lung injury following air embolism and ischemia / reperfusion .  In contrast ,  NO synthase  ( NOS )  inhibitors reverse such lung injury .  Although NO is important in maintaining vasodilator tone ,  hypoxia - induced pulmonary vasoconstriction is accompanied by an increase instead of a decrease in NO release .  In animal and isolated lung studies ,  endotoxin produces acute lung injury that is associated with increases in cytokines and inducible NOS mRNA expression ,  suggesting that NO is toxic to the lung in endotoxin shock .  Recently ,  we reported several rare cases that indicate that ARDS in patients with Japanese B encephalitis ,  lymphangitis with breast cancer and fat embolism is caused by different mechanisms .  Our early and recent studies on ARDS and PE may provide information for clinical practice and the understanding of the pathogenesis of SARS . ',\n",
       " 'denotations': [{'id': 'T1',\n",
       "   'span': {'begin': 145, 'end': 156},\n",
       "   'obj': 'Organism'},\n",
       "  {'id': 'T3', 'span': {'begin': 157, 'end': 166}, 'obj': 'Infection'},\n",
       "  {'id': 'T30',\n",
       "   'span': {'begin': 814, 'end': 824},\n",
       "   'obj': 'Negative_regulation'},\n",
       "  {'id': 'T9',\n",
       "   'span': {'begin': 828, 'end': 842},\n",
       "   'obj': 'Pathological_formation'},\n",
       "  {'id': 'T2', 'span': {'begin': 1291, 'end': 1295}, 'obj': 'Organ'},\n",
       "  {'id': 'T4', 'span': {'begin': 1296, 'end': 1302}, 'obj': 'Breakdown'},\n",
       "  {'id': 'T20',\n",
       "   'span': {'begin': 1266, 'end': 1275},\n",
       "   'obj': 'Simple_chemical'},\n",
       "  {'id': 'T36',\n",
       "   'span': {'begin': 1327, 'end': 1336},\n",
       "   'obj': 'Positive_regulation'},\n",
       "  {'id': 'T37', 'span': {'begin': 1368, 'end': 1383}, 'obj': 'Transcription'},\n",
       "  {'id': 'T22',\n",
       "   'span': {'begin': 1354, 'end': 1367},\n",
       "   'obj': 'Gene_or_gene_product'}],\n",
       " 'relations': [{'id': 'E1', 'pred': 'Participant', 'subj': 'T3', 'obj': 'T1'},\n",
       "  {'id': 'E2', 'pred': 'Theme', 'subj': 'T30', 'obj': 'T9'},\n",
       "  {'id': 'E1', 'pred': 'Theme', 'subj': 'T4', 'obj': 'T2'},\n",
       "  {'id': 'E6', 'pred': 'Theme', 'subj': 'T36', 'obj': 'T37'},\n",
       "  {'id': 'E6', 'pred': 'Cause', 'subj': 'T36', 'obj': 'T20'},\n",
       "  {'id': 'E4', 'pred': 'Theme', 'subj': 'T37', 'obj': 'T22'}]}"
      ]
     },
     "execution_count": 29,
     "metadata": {},
     "output_type": "execute_result"
    }
   ],
   "source": [
    "mhybrid_seeker.get_doc_annotations(event_type='cg', doc_id='14576460')\n"
   ]
  }
 ],
 "metadata": {
  "kernelspec": {
   "display_name": "events",
   "language": "python",
   "name": "python3"
  },
  "language_info": {
   "codemirror_mode": {
    "name": "ipython",
    "version": 3
   },
   "file_extension": ".py",
   "mimetype": "text/x-python",
   "name": "python",
   "nbconvert_exporter": "python",
   "pygments_lexer": "ipython3",
   "version": "3.8.5"
  },
  "orig_nbformat": 4
 },
 "nbformat": 4,
 "nbformat_minor": 2
}
