{
 "cells": [
  {
   "cell_type": "code",
   "execution_count": 52,
   "metadata": {},
   "outputs": [
    {
     "name": "stdout",
     "output_type": "stream",
     "text": [
      "The autoreload extension is already loaded. To reload it, use:\n",
      "  %reload_ext autoreload\n"
     ]
    }
   ],
   "source": [
    "%load_ext autoreload\n",
    "%autoreload 2\n"
   ]
  },
  {
   "cell_type": "code",
   "execution_count": 53,
   "metadata": {},
   "outputs": [],
   "source": [
    "%%capture --no-display\n",
    "from bef.search_utils import (vector_search,\n",
    "                              search_and_print, search_apply_kernel)\n",
    "import numpy as np\n",
    "import faiss\n",
    "import  pickle\n",
    "import torch\n",
    "import os\n",
    "import json\n",
    "from sentence_transformers import SentenceTransformer\n"
   ]
  },
  {
   "cell_type": "code",
   "execution_count": 54,
   "metadata": {},
   "outputs": [],
   "source": [
    "from bef.doc_retrieval import VectorSearchDimRedu, FaissIndexGraphEventsDimRedu, MultipleGraphIndexManager\n",
    "import os\n",
    "import pickle\n",
    "from dkouqe.document_retrieval.multiple_search import (SortByBestScore)\n",
    "import json"
   ]
  },
  {
   "cell_type": "code",
   "execution_count": 55,
   "metadata": {},
   "outputs": [],
   "source": [
    "from bef.bioevent_query_handler import BioEventData,BioEventQueryHandler,BioEventDataWithDB,MultiBioEventQueryHandler"
   ]
  },
  {
   "cell_type": "code",
   "execution_count": 56,
   "metadata": {},
   "outputs": [],
   "source": [
    "from bef.netjson2textaejson import convert_to_pubannotation,convert_networks_to_pubannotation"
   ]
  },
  {
   "cell_type": "code",
   "execution_count": 57,
   "metadata": {},
   "outputs": [],
   "source": [
    "# bio_event_data = BioEventData()\n",
    "# bio_event_data = BioEventDataWithDB()\n"
   ]
  },
  {
   "cell_type": "code",
   "execution_count": 68,
   "metadata": {},
   "outputs": [
    {
     "name": "stdout",
     "output_type": "stream",
     "text": [
      "Loading graph ...\n",
      "Loading graph ...\n"
     ]
    }
   ],
   "source": [
    "# seeker  = BioEventQueryHandler(bio_event_data)\n",
    "evs=['cg','id']\n",
    "seeker = MultiBioEventQueryHandler(evs)"
   ]
  },
  {
   "cell_type": "code",
   "execution_count": 59,
   "metadata": {},
   "outputs": [],
   "source": [
    "# graph = seeker.data.id2graph[7167]\n",
    "# nodes_spans = seeker.data.docs2graphspans['4735363']\n",
    "# nodes_spans = nodes_spans['7167']\n",
    "# text = seeker.data.pmid2data['4735363']\n",
    "# text = text['title']+text['abstract']\n",
    "# convert_single_to_pubannotation(nodes_spans,graph,text)"
   ]
  },
  {
   "cell_type": "code",
   "execution_count": 60,
   "metadata": {},
   "outputs": [],
   "source": [
    "# seeker.data.pmid2text['4405313']"
   ]
  },
  {
   "cell_type": "code",
   "execution_count": null,
   "metadata": {},
   "outputs": [],
   "source": [
    "evs=['id']\n",
    "seeker(\"the acetycholine produces catabolism \",num_res=10,events_to_query=evs)['results']"
   ]
  },
  {
   "cell_type": "code",
   "execution_count": 70,
   "metadata": {},
   "outputs": [],
   "source": [
    "docid = '4405395'"
   ]
  },
  {
   "cell_type": "code",
   "execution_count": 71,
   "metadata": {},
   "outputs": [
    {
     "data": {
      "text/plain": [
       "{'text': 'Delayed hypersensitivity in vaccinia - infected mice .  II .  Resistance of peritoneal macrophages against vaccinia infection . ',\n",
       " 'denotations': [{'id': 'T5',\n",
       "   'span': {'begin': 39, 'end': 47},\n",
       "   'obj': 'Infection'},\n",
       "  {'id': 'T2', 'span': {'begin': 48, 'end': 52}, 'obj': 'Organism'},\n",
       "  {'id': 'T1', 'span': {'begin': 28, 'end': 36}, 'obj': 'Organism'},\n",
       "  {'id': 'T6', 'span': {'begin': 39, 'end': 47}, 'obj': 'Planned_process'},\n",
       "  {'id': 'T3', 'span': {'begin': 76, 'end': 98}, 'obj': 'Cell'},\n",
       "  {'id': 'T7', 'span': {'begin': 116, 'end': 125}, 'obj': 'Infection'},\n",
       "  {'id': 'T4', 'span': {'begin': 107, 'end': 115}, 'obj': 'Organism'}],\n",
       " 'relations': [{'id': 'E1', 'pred': 'Participant', 'subj': 'T5', 'obj': 'T1'},\n",
       "  {'id': 'E1', 'pred': 'Theme', 'subj': 'T5', 'obj': 'T2'},\n",
       "  {'id': 'E2', 'pred': 'Instrument', 'subj': 'T6', 'obj': 'T1'},\n",
       "  {'id': 'E2', 'pred': 'Theme', 'subj': 'T6', 'obj': 'T2'},\n",
       "  {'id': 'E3', 'pred': 'Theme', 'subj': 'T7', 'obj': 'T3'},\n",
       "  {'id': 'E3', 'pred': 'Participant', 'subj': 'T7', 'obj': 'T4'}]}"
      ]
     },
     "execution_count": 71,
     "metadata": {},
     "output_type": "execute_result"
    }
   ],
   "source": [
    "seeker(docid,num_res=10,type='get_doc_annotations',events_to_query=['cg'])"
   ]
  },
  {
   "cell_type": "code",
   "execution_count": 72,
   "metadata": {},
   "outputs": [
    {
     "data": {
      "text/plain": [
       "{'text': 'Delayed hypersensitivity in vaccinia - infected mice .  II .  Resistance of peritoneal macrophages against vaccinia infection . ',\n",
       " 'denotations': [{'id': 'T2',\n",
       "   'span': {'begin': 107, 'end': 115},\n",
       "   'obj': 'Organism'},\n",
       "  {'id': 'T5', 'span': {'begin': 116, 'end': 125}, 'obj': 'Process'}],\n",
       " 'relations': [{'id': 'E1', 'pred': 'Participant', 'subj': 'T5', 'obj': 'T2'}]}"
      ]
     },
     "execution_count": 72,
     "metadata": {},
     "output_type": "execute_result"
    }
   ],
   "source": [
    "seeker(docid,num_res=10,type='get_doc_annotations',events_to_query=['id'])"
   ]
  },
  {
   "cell_type": "code",
   "execution_count": 73,
   "metadata": {},
   "outputs": [
    {
     "data": {
      "text/plain": [
       "{'text': 'Delayed hypersensitivity in vaccinia - infected mice .  II .  Resistance of peritoneal macrophages against vaccinia infection . ',\n",
       " 'denotations': [{'id': 'T5',\n",
       "   'span': {'begin': 39, 'end': 47},\n",
       "   'obj': 'Infection'},\n",
       "  {'id': 'T2', 'span': {'begin': 48, 'end': 52}, 'obj': 'Organism'},\n",
       "  {'id': 'T1', 'span': {'begin': 28, 'end': 36}, 'obj': 'Organism'},\n",
       "  {'id': 'T6', 'span': {'begin': 39, 'end': 47}, 'obj': 'Planned_process'},\n",
       "  {'id': 'T3', 'span': {'begin': 76, 'end': 98}, 'obj': 'Cell'},\n",
       "  {'id': 'T7', 'span': {'begin': 116, 'end': 125}, 'obj': 'Infection'},\n",
       "  {'id': 'T4', 'span': {'begin': 107, 'end': 115}, 'obj': 'Organism'},\n",
       "  {'id': 'T8', 'span': {'begin': 107, 'end': 115}, 'obj': 'Organism'},\n",
       "  {'id': 'T9', 'span': {'begin': 116, 'end': 125}, 'obj': 'Process'}],\n",
       " 'relations': [{'id': 'E1', 'pred': 'Participant', 'subj': 'T5', 'obj': 'T1'},\n",
       "  {'id': 'E1', 'pred': 'Theme', 'subj': 'T5', 'obj': 'T2'},\n",
       "  {'id': 'E2', 'pred': 'Instrument', 'subj': 'T6', 'obj': 'T1'},\n",
       "  {'id': 'E2', 'pred': 'Theme', 'subj': 'T6', 'obj': 'T2'},\n",
       "  {'id': 'E3', 'pred': 'Theme', 'subj': 'T7', 'obj': 'T3'},\n",
       "  {'id': 'E3', 'pred': 'Participant', 'subj': 'T7', 'obj': 'T4'}]}"
      ]
     },
     "execution_count": 73,
     "metadata": {},
     "output_type": "execute_result"
    }
   ],
   "source": [
    "seeker(docid,num_res=10,type='get_doc_annotations',events_to_query=['cg','id'])"
   ]
  },
  {
   "cell_type": "code",
   "execution_count": 66,
   "metadata": {},
   "outputs": [
    {
     "data": {
      "text/plain": [
       "{'text': 'Delayed hypersensitivity in vaccinia - infected mice .  II .  Resistance of peritoneal macrophages against vaccinia infection . ',\n",
       " 'denotations': [{'id': 'T5',\n",
       "   'span': {'begin': 39, 'end': 47},\n",
       "   'obj': 'Infection'},\n",
       "  {'id': 'T2', 'span': {'begin': 48, 'end': 52}, 'obj': 'Organism'},\n",
       "  {'id': 'T1', 'span': {'begin': 28, 'end': 36}, 'obj': 'Organism'},\n",
       "  {'id': 'T2', 'span': {'begin': 48, 'end': 52}, 'obj': 'Organism'},\n",
       "  {'id': 'T1', 'span': {'begin': 28, 'end': 36}, 'obj': 'Organism'},\n",
       "  {'id': 'T6', 'span': {'begin': 39, 'end': 47}, 'obj': 'Planned_process'},\n",
       "  {'id': 'T3', 'span': {'begin': 76, 'end': 98}, 'obj': 'Cell'},\n",
       "  {'id': 'T7', 'span': {'begin': 116, 'end': 125}, 'obj': 'Infection'},\n",
       "  {'id': 'T4', 'span': {'begin': 107, 'end': 115}, 'obj': 'Organism'},\n",
       "  {'id': 'T8', 'span': {'begin': 107, 'end': 115}, 'obj': 'Organism'},\n",
       "  {'id': 'T9', 'span': {'begin': 116, 'end': 125}, 'obj': 'Process'}],\n",
       " 'relations': [{'id': 'E1', 'pred': 'Participant', 'subj': 'T5', 'obj': 'T1'},\n",
       "  {'id': 'E1', 'pred': 'Theme', 'subj': 'T5', 'obj': 'T2'},\n",
       "  {'id': 'E2', 'pred': 'Instrument', 'subj': 'T6', 'obj': 'T1'},\n",
       "  {'id': 'E2', 'pred': 'Theme', 'subj': 'T6', 'obj': 'T2'},\n",
       "  {'id': 'E3', 'pred': 'Theme', 'subj': 'T7', 'obj': 'T3'},\n",
       "  {'id': 'E3', 'pred': 'Participant', 'subj': 'T7', 'obj': 'T4'},\n",
       "  {'id': 'E4', 'pred': 'Participant', 'subj': 'T14', 'obj': 'T11'}]}"
      ]
     },
     "execution_count": 66,
     "metadata": {},
     "output_type": "execute_result"
    }
   ],
   "source": [
    "res"
   ]
  },
  {
   "cell_type": "code",
   "execution_count": 67,
   "metadata": {},
   "outputs": [
    {
     "ename": "AttributeError",
     "evalue": "'MultiBioEventQueryHandler' object has no attribute 'data'",
     "output_type": "error",
     "traceback": [
      "\u001b[0;31m---------------------------------------------------------------------------\u001b[0m",
      "\u001b[0;31mAttributeError\u001b[0m                            Traceback (most recent call last)",
      "Cell \u001b[0;32mIn[67], line 1\u001b[0m\n\u001b[0;32m----> 1\u001b[0m seeker\u001b[39m.\u001b[39;49mdata\u001b[39m.\u001b[39mdocs2graphspans[\u001b[39m'\u001b[39m\u001b[39m18631530\u001b[39m\u001b[39m'\u001b[39m]\n",
      "\u001b[0;31mAttributeError\u001b[0m: 'MultiBioEventQueryHandler' object has no attribute 'data'"
     ]
    }
   ],
   "source": [
    "seeker.data.docs2graphspans['18631530']"
   ]
  },
  {
   "cell_type": "code",
   "execution_count": null,
   "metadata": {},
   "outputs": [
    {
     "data": {
      "text/plain": [
       "{'directed': True,\n",
       " 'multigraph': False,\n",
       " 'nodes': [{'type': 'Catabolism', 'name': 'hydrolyse\\n', 'id': 'T17'},\n",
       "  {'type': 'Simple_chemical', 'name': 'phenylthioacetate\\n', 'id': 'T8'}],\n",
       " 'links': [{'key': 'Theme',\n",
       "   'event_id': 'E1',\n",
       "   'source': 'T17',\n",
       "   'target': 'T8'}],\n",
       " 'id': 192312}"
      ]
     },
     "execution_count": 12,
     "metadata": {},
     "output_type": "execute_result"
    }
   ],
   "source": [
    "seeker.data.id2graph[192312]"
   ]
  },
  {
   "cell_type": "code",
   "execution_count": null,
   "metadata": {},
   "outputs": [],
   "source": [
    "PMID = '18631530'"
   ]
  },
  {
   "cell_type": "code",
   "execution_count": null,
   "metadata": {},
   "outputs": [],
   "source": [
    "full_nets = seeker.get_networks_wspans(seeker.data.docs2graphspans[PMID])"
   ]
  },
  {
   "cell_type": "code",
   "execution_count": null,
   "metadata": {},
   "outputs": [
    {
     "data": {
      "text/plain": [
       "{'text': 'Histochemical specificity of cholinesterases to phenylthioacetate in differentiated neural tissues of insects and teleosts .  Housefly brain cholinesterase was histochemically demonstrated to hydrolyse phenylthioacetate at a very high rate ,  similar in distribution to that previously reported for acetylthiocholine .  However ,  teleost neural retina cholinesterase would not hydrolyse the aromatic substrate ,  but the enzyme did cleave acetylthiocholine .  Paraoxon and eserine were utilized to show selective patterns of inhibition in the two tissues .  This high degree of substrate selectivity is discussed in conjunction with the possible development of selective insecticides . ',\n",
       " 'denotations': [{'id': 'T17',\n",
       "   'span': {'begin': 192, 'end': 201},\n",
       "   'obj': 'Catabolism'},\n",
       "  {'id': 'T8', 'span': {'begin': 202, 'end': 219}, 'obj': 'Simple_chemical'},\n",
       "  {'id': 'T18', 'span': {'begin': 378, 'end': 387}, 'obj': 'Catabolism'},\n",
       "  {'id': 'T11', 'span': {'begin': 392, 'end': 400}, 'obj': 'Simple_chemical'},\n",
       "  {'id': 'T12', 'span': {'begin': 440, 'end': 457}, 'obj': 'Simple_chemical'},\n",
       "  {'id': 'T19', 'span': {'begin': 433, 'end': 439}, 'obj': 'Catabolism'}],\n",
       " 'relations': [{'id': 'E1', 'pred': 'Theme', 'subj': 'T17', 'obj': 'T8'},\n",
       "  {'id': 'E2', 'pred': 'Theme', 'subj': 'T18', 'obj': 'T11'},\n",
       "  {'id': 'E3', 'pred': 'Theme', 'subj': 'T19', 'obj': 'T12'}]}"
      ]
     },
     "execution_count": 15,
     "metadata": {},
     "output_type": "execute_result"
    }
   ],
   "source": [
    "convert_networks_to_pubannotation(full_nets,seeker.data.pmid2text[PMID])"
   ]
  },
  {
   "cell_type": "code",
   "execution_count": null,
   "metadata": {},
   "outputs": [
    {
     "data": {
      "text/plain": [
       "{'text': 'Histochemical specificity of cholinesterases to phenylthioacetate in differentiated neural tissues of insects and teleosts .  Housefly brain cholinesterase was histochemically demonstrated to hydrolyse phenylthioacetate at a very high rate ,  similar in distribution to that previously reported for acetylthiocholine .  However ,  teleost neural retina cholinesterase would not hydrolyse the aromatic substrate ,  but the enzyme did cleave acetylthiocholine .  Paraoxon and eserine were utilized to show selective patterns of inhibition in the two tissues .  This high degree of substrate selectivity is discussed in conjunction with the possible development of selective insecticides . ',\n",
       " 'denotations': [{'id': 'T17',\n",
       "   'span': {'begin': 192, 'end': 201},\n",
       "   'obj': 'Catabolism'},\n",
       "  {'id': 'T8', 'span': {'begin': 202, 'end': 219}, 'obj': 'Simple_chemical'},\n",
       "  {'id': 'T18', 'span': {'begin': 378, 'end': 387}, 'obj': 'Catabolism'},\n",
       "  {'id': 'T11', 'span': {'begin': 392, 'end': 400}, 'obj': 'Simple_chemical'},\n",
       "  {'id': 'T12', 'span': {'begin': 440, 'end': 457}, 'obj': 'Simple_chemical'},\n",
       "  {'id': 'T19', 'span': {'begin': 433, 'end': 439}, 'obj': 'Catabolism'}],\n",
       " 'relations': [{'id': 'E1', 'pred': 'Theme', 'subj': 'T17', 'obj': 'T8'},\n",
       "  {'id': 'E2', 'pred': 'Theme', 'subj': 'T18', 'obj': 'T11'},\n",
       "  {'id': 'E3', 'pred': 'Theme', 'subj': 'T19', 'obj': 'T12'}]}"
      ]
     },
     "execution_count": 16,
     "metadata": {},
     "output_type": "execute_result"
    }
   ],
   "source": [
    "seeker(PMID, None, \"get_doc_annotations\")"
   ]
  }
 ],
 "metadata": {
  "kernelspec": {
   "display_name": "Python 3.8.5 ('pytorch')",
   "language": "python",
   "name": "python3"
  },
  "language_info": {
   "codemirror_mode": {
    "name": "ipython",
    "version": 3
   },
   "file_extension": ".py",
   "mimetype": "text/x-python",
   "name": "python",
   "nbconvert_exporter": "python",
   "pygments_lexer": "ipython3",
   "version": "3.8.16"
  },
  "orig_nbformat": 4,
  "vscode": {
   "interpreter": {
    "hash": "6606c6fdba329aef57b9c3180ba0b52f275d542c703cd89ea26923bc270f74f7"
   }
  }
 },
 "nbformat": 4,
 "nbformat_minor": 2
}
