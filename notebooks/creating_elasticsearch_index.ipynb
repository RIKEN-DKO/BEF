{
 "cells": [
  {
   "cell_type": "code",
   "execution_count": 1,
   "metadata": {},
   "outputs": [],
   "source": [
    "%load_ext autoreload \n",
    "%autoreload 2"
   ]
  },
  {
   "cell_type": "code",
   "execution_count": 2,
   "metadata": {},
   "outputs": [
    {
     "name": "stderr",
     "output_type": "stream",
     "text": [
      "/home/julio/anaconda3/envs/events/lib/python3.8/site-packages/tqdm/auto.py:21: TqdmWarning: IProgress not found. Please update jupyter and ipywidgets. See https://ipywidgets.readthedocs.io/en/stable/user_install.html\n",
      "  from .autonotebook import tqdm as notebook_tqdm\n"
     ]
    }
   ],
   "source": [
    "import json\n",
    "from elasticsearch import Elasticsearch\n",
    "from bef.splade import SpladeBOW\n",
    "\n"
   ]
  },
  {
   "cell_type": "code",
   "execution_count": 5,
   "metadata": {},
   "outputs": [],
   "source": [
    "\n",
    "bow = SpladeBOW()\n",
    "\n"
   ]
  },
  {
   "cell_type": "code",
   "execution_count": null,
   "metadata": {},
   "outputs": [],
   "source": [
    "bow.get_bow('melanoma')\n"
   ]
  },
  {
   "cell_type": "code",
   "execution_count": null,
   "metadata": {},
   "outputs": [],
   "source": [
    "bow.get_bows(['melanoma','disease'])"
   ]
  },
  {
   "cell_type": "code",
   "execution_count": 12,
   "metadata": {},
   "outputs": [],
   "source": [
    "# Create an Elasticsearch client\n",
    "es = Elasticsearch(hosts=\"http://localhost:9200\")\n",
    "\n"
   ]
  },
  {
   "cell_type": "code",
   "execution_count": 13,
   "metadata": {},
   "outputs": [],
   "source": [
    "\n",
    "# Load your data from a JSON file\n",
    "# with open(\"/home/julio/repos/event_finder/data/pubmed_70s/cg/events_graph.json\", \"r\") as read_file:\n",
    "#     json_data = json.load(read_file)\n",
    "\n",
    "# # Create an Elasticsearch index\n",
    "# index_name = \"pubmed_70s_cg\"\n",
    "index_name = \"pubmed_70s_id\"\n",
    "# if not es.indices.exists(index=index_name):\n",
    "#     es.indices.create(index=index_name)\n"
   ]
  },
  {
   "cell_type": "code",
   "execution_count": 5,
   "metadata": {},
   "outputs": [],
   "source": [
    "\n",
    "# Add documents to the index\n",
    "# for graph in json_data:\n",
    "#     id = graph['id']\n",
    "#     text = ' '.join(node['name'] for node in graph['nodes'])\n",
    "#######THIS CODE IS VERY SLOW, YOU NEED FIRST GET ALL EXPANDADED KEYWORDS IN GPU\n",
    "#     expanded_keywords = bow.get_bow(text)\n",
    "#     keyws = [keyw[0] for keyw in expanded_keywords]\n",
    "#     document = {\n",
    "#         \"name\": text,\n",
    "#         \"expanded_keywords\": keyws,\n",
    "#     }\n",
    "\n",
    "#     es.index(index=index_name, id=id, body=document)\n"
   ]
  },
  {
   "cell_type": "code",
   "execution_count": 16,
   "metadata": {},
   "outputs": [
    {
     "name": "stdout",
     "output_type": "stream",
     "text": [
      "Matched document ID:  4308\n",
      "Score:  5.517488\n",
      "Name:  Marek ' s disease\n",
      " infected\n",
      "\n",
      "Expanded keywords:  ['marek', 'disease', 'infection', 'infected', 'diseases', 'pathogen', 'eric', 's', 'fungus', 'infections', 'matter', 'parasite', 'bug', 'plague', 'epidemic', 'les', 'germany', 'jakob', 'syndrome', 'tumor', 'sick', 'formerly', 'virus', 'cause', 'hepatitis', 'spread', 'suffered', 'worm', 'gypsy', 'mutation', 'wound', 'species', 'poland', 'made', 'bacteria', 'frank', 'bradford', '_']\n",
      "-----\n",
      "Matched document ID:  4857\n",
      "Score:  5.517488\n",
      "Name:  Newcastle disease virus\n",
      " titers\n",
      "\n",
      "Expanded keywords:  ['newcastle', 'ti', 'disease', 'virus', '##ter', 'diseases', 'tyne', '##ters', 'infection', 'pathogen', 'bug', 'toby', 'mutation', 'vaccine', 'syndrome', 'spread', 'detection', 'strain', 'disorder', 'warning', 'transmission', 'epidemic', ':', 'parasite', 'diagnosis', 'australia', 'injury', 'england', 'fungus', 'charlie', 'tumor', 'lung', 'cough', 'worm', 'viruses', 'bite', 'henry', 'tb']\n",
      "-----\n",
      "Matched document ID:  2957\n",
      "Score:  5.517488\n",
      "Name:  Marek ' s disease\n",
      " infection\n",
      "\n",
      "Expanded keywords:  ['marek', 'disease', 'infection', 'diseases', 'infections', 'pathogen', 's', 'eric', 'matter', 'fungus', 'germany', 'jakob', 'syndrome', 'les', 'parasite', 'bug', 'plague', 'tumor', 'cause', 'species', 'epidemic', 'bradford', 'hepatitis', 'formerly', 'mutation', 'poland', 'disorder', 'frank', 'virus', 'bacteria', 'gypsy', 'injury', 'henry', 'wound', 'infected', 'made', 'suffered', 'beck']\n",
      "-----\n",
      "Matched document ID:  560\n",
      "Score:  5.517488\n",
      "Name:  Aleutian disease virus\n",
      " infected\n",
      "\n",
      "Expanded keywords:  ['##uti', 'ale', 'infection', 'disease', 'virus', 'infected', '##an', 'diseases', 'pathogen', 'infections', 'parasite', 'hepatitis', 'hiv', 'malaria', 'epidemic', 'fungus', 'bacteria', 'contaminated', 'spread', '##ian', 'warning', 'vaccine', 'viruses', 'tumor', 'bite', 'worm', 'is', 'contamination', 'cause', 'toxic', 'zombie', 'sick', 'bug']\n",
      "-----\n",
      "Matched document ID:  2143\n",
      "Score:  5.517488\n",
      "Name:  Newcastle disease virus\n",
      " infection\n",
      "\n",
      "Expanded keywords:  ['newcastle', 'disease', 'infection', 'virus', 'tyne', 'infections', 'diseases', 'toby', 'pathogen', 'bug', 'australia', 'epidemic', 'england', 'bradford', 'disorder', 'injury', 'fungus', 'gary', 'infected', 'henry', 'spread', 'lung', 'syndrome', 'outbreak', 'tb', 'parasite', 'bite', 'hiv', 'vaccine', 'worm', 'mutation', 'gordon', 'cause', 'cancer', 'malaria', 'viruses', 'parkinson', 'warning', 'illness']\n",
      "-----\n",
      "Matched document ID:  1617\n",
      "Score:  5.517488\n",
      "Name:  Newcastle disease virus\n",
      " virulent\n",
      "\n",
      "Expanded keywords:  ['newcastle', 'disease', '##lent', 'vi', 'virus', '##ru', 'tyne', 'diseases', 'infection', 'pathogen', 'bug', 'spread', 'toby', 'pest', 'parasite', 'syndrome', 'disorder', 'fungus', 'epidemic', 'mutation', 'henry', 'toxic', 'cause', 'viruses', 'warning', 'worm', 'persistent', 'threat', 'bacteria', 'dangerous', 'strain', 'england', 'injury', 'bradford']\n",
      "-----\n",
      "Matched document ID:  1619\n",
      "Score:  5.517488\n",
      "Name:  Newcastle disease virus\n",
      " avirulent\n",
      "\n",
      "Expanded keywords:  ['newcastle', '##ulent', 'disease', 'virus', 'av', 'diseases', '##ir', 'tyne', 'pathogen', 'infection', 'toby', 'bug', 'fungus', 'syndrome', 'species', 'parasite', 'mutation', 'strain', 'disorder', ':', 'bradford', 'worm', 'spread', 'australia', 'is', 'epidemic', 'skin', 'bacteria', 'viruses', 'england']\n",
      "-----\n",
      "Matched document ID:  970\n",
      "Score:  5.517488\n",
      "Name:  Friend disease virus\n",
      " infection\n",
      "\n",
      "Expanded keywords:  ['friend', 'friends', 'disease', 'infection', 'virus', 'diseases', 'infections', 'buddy', 'friendship', 'viruses', 'pathogen', 'bug', 'zombie', 'spread', 'ten', 'infected', 'hepatitis', 'hiv', 'parasite', 'gary', 'cough', 'warning', 'epidemic', 'illness', 'alex', 'disorder', 'fungus', 'addiction', 'charlie', 'syndrome', 'facebook', 'bradford', 'contact']\n",
      "-----\n",
      "Matched document ID:  405\n",
      "Score:  5.517488\n",
      "Name:  Newcastle disease virus\n",
      " infected\n",
      "\n",
      "Expanded keywords:  ['newcastle', 'disease', 'infection', 'virus', 'infected', 'tyne', 'diseases', 'toby', 'infections', 'pathogen', 'bug', 'epidemic', 'spread', 'australia', 'england', 'fungus', 'vaccine', 'sick', 'worm', 'bite', 'tb', 'transmission', 'viruses', 'parasite', 'lung', 'hiv', 'malaria', 'injury', 'bradford', 'gary', 'contaminated', 'warning', 'cough']\n",
      "-----\n",
      "Matched document ID:  7463\n",
      "Score:  5.517488\n",
      "Name:  Newcastle disease virus\n",
      " infectivity\n",
      "\n",
      "Expanded keywords:  ['newcastle', 'disease', 'virus', '##ivity', '##fect', 'infection', 'diseases', 'tyne', '##tag', 'pathogen', 'contamination', 'toby', 'effect', 'spread', 'in', 'bug', 'epidemic', 'vaccine', 'transmission', 'mutation', 'injury', 'parasite', 'lung', 'bite', 'tb', 'bradford', 'hepatitis', 'australia', 'infected', 'toxic', 'warning', '##ergy', 'detection', 'viruses', 'fungus', 'england', 'syndrome', 'dangerous', 'malaria', 'cancer', 'affect', '##ivation', 'henry', 'immunity', '##ive']\n",
      "-----\n"
     ]
    },
    {
     "name": "stderr",
     "output_type": "stream",
     "text": [
      "/tmp/ipykernel_115396/1115021044.py:5: DeprecationWarning: The 'body' parameter is deprecated and will be removed in a future version. Instead use individual parameters.\n",
      "  response = es.search(\n",
      "/tmp/ipykernel_115396/1115021044.py:5: ElasticsearchWarning: Elasticsearch built-in security features are not enabled. Without authentication, your cluster could be accessible to anyone. See https://www.elastic.co/guide/en/elasticsearch/reference/7.17/security-minimal-setup.html to enable security.\n",
      "  response = es.search(\n"
     ]
    }
   ],
   "source": [
    "# Your query string\n",
    "query = \"disease\"\n",
    "\n",
    "# Perform the search\n",
    "response = es.search(\n",
    "    index=index_name,\n",
    "    body={\n",
    "        \"query\": {\n",
    "            \"match\": {\n",
    "                \"name\": query\n",
    "            }\n",
    "        }\n",
    "    }\n",
    ")\n",
    "\n",
    "# Print the IDs, scores, names, and expanded_keywords of the matching documents\n",
    "for hit in response[\"hits\"][\"hits\"]:\n",
    "    print(\"Matched document ID: \", hit[\"_id\"])\n",
    "    print(\"Score: \", hit[\"_score\"])\n",
    "    print(\"Name: \", hit[\"_source\"][\"name\"])\n",
    "    print(\"Expanded keywords: \", hit[\"_source\"][\"expanded_keywords\"])\n",
    "    print(\"-----\")\n"
   ]
  },
  {
   "cell_type": "code",
   "execution_count": 21,
   "metadata": {},
   "outputs": [],
   "source": [
    "class ElasticSearchSeeker:\n",
    "    def __init__(self,host=\"http://localhost:9200\"):\n",
    "        self.es = Elasticsearch(hosts=host)\n",
    "        self.response = None\n",
    "\n",
    "    def retrieve_records(self,query):\n",
    "        # Perform the search\n",
    "        response = es.search(\n",
    "            index=index_name,\n",
    "            body={\n",
    "                \"query\": {\n",
    "                    \"match\": {\n",
    "                        \"name\": query\n",
    "                    }\n",
    "                }\n",
    "            }\n",
    "        )\n",
    "        self.response = response\n",
    "        scores = []\n",
    "        docids = []\n",
    "        for hit in response[\"hits\"][\"hits\"]:\n",
    "            docids.append(hit[\"_id\"])\n",
    "            scores.append(hit[\"_score\"])\n",
    "        \n",
    "        results = {}\n",
    "        results['scores'] = scores\n",
    "        results['records_ids'] = docids\n",
    "\n",
    "        return results"
   ]
  },
  {
   "cell_type": "code",
   "execution_count": 22,
   "metadata": {},
   "outputs": [],
   "source": [
    "el_seeker = ElasticSearchSeeker()"
   ]
  },
  {
   "cell_type": "code",
   "execution_count": null,
   "metadata": {},
   "outputs": [],
   "source": [
    "el_seeker.retrieve_records(\"melanoma treatment\")"
   ]
  },
  {
   "cell_type": "code",
   "execution_count": 11,
   "metadata": {},
   "outputs": [
    {
     "name": "stdout",
     "output_type": "stream",
     "text": [
      "Matched document ID:  39884\n",
      "Score:  12.122826\n",
      "Name:  melanoma\n",
      " treatment\n",
      "\n",
      "Expanded keywords:  ['##ano', 'mel', 'treatment', '##ma', 'therapy', 'treated', 'cancer', 'treatments', 'cure', 'surgery', 'remedy', 'chemotherapy', 'drug', 'medication', 'intervention', 'help', 'procedure', 'clinic', 'heal', 'laser', 'diagnosis', 'restoration', '##therapy', 'counseling', 'vaccine', 'brace']\n",
      "-----\n",
      "Matched document ID:  76168\n",
      "Score:  12.122826\n",
      "Name:  melanoma\n",
      " Treatment\n",
      "\n",
      "Expanded keywords:  ['##ano', 'mel', 'treatment', '##ma', 'therapy', 'treated', 'cancer', 'treatments', 'cure', 'surgery', 'remedy', 'chemotherapy', 'drug', 'medication', 'intervention', 'help', 'procedure', 'clinic', 'heal', 'laser', 'diagnosis', 'restoration', '##therapy', 'counseling', 'vaccine', 'brace']\n",
      "-----\n",
      "Matched document ID:  13211\n",
      "Score:  10.672612\n",
      "Name:  iodoaminoquinolines\n",
      " melanoma\n",
      " treatment\n",
      "\n",
      "Expanded keywords:  ['treatment', 'io', '##ano', '##quin', '##olin', 'therapy', 'mel', '##ami', 'treated', '##do', '##ma', 'drug', 'cancer', 'inhibitor', 'tumor', 'dose', '##no', 'medication', '##ulin', 'chemotherapy', 'useful', 'vaccine', '##oma', 'surgery', 'treatments', 'is', 'cure', 'for', '##cino', 'effect', 'disease', 'hormone', 'injection', 'detection']\n",
      "-----\n",
      "Matched document ID:  14547\n",
      "Score:  10.672612\n",
      "Name:  malignant melanoma\n",
      " treatment\n",
      "\n",
      "Expanded keywords:  ['treatment', 'mali', '##gnant', '##ano', 'mel', 'therapy', 'treated', '##ma', 'cancer', 'tumor', 'treatments', 'chemotherapy', 'cure', 'surgery', 'drug', 'intervention', 'medication', 'procedure', 'inhibitor', 'diagnosis', 'vaccine', 'detection', 'remedy', 'laser', '##cino', 'clinic', '##therapy', 'hospital', 'trial', 'bomb', 'restoration', 'survival']\n",
      "-----\n",
      "Matched document ID:  35756\n",
      "Score:  10.672612\n",
      "Name:  malignant melanoma\n",
      " Treatment\n",
      "\n",
      "Expanded keywords:  ['treatment', 'mali', '##gnant', '##ano', 'mel', 'therapy', 'treated', '##ma', 'cancer', 'tumor', 'treatments', 'chemotherapy', 'cure', 'surgery', 'drug', 'intervention', 'medication', 'procedure', 'inhibitor', 'diagnosis', 'vaccine', 'detection', 'remedy', 'laser', '##cino', 'clinic', '##therapy', 'hospital', 'trial', 'bomb', 'restoration', 'survival']\n",
      "-----\n",
      "Matched document ID:  42446\n",
      "Score:  10.672612\n",
      "Name:  choroidal melanoma\n",
      " treatment\n",
      "\n",
      "Expanded keywords:  ['treatment', '##ano', 'cho', '##roid', 'mel', 'therapy', '##ma', 'treated', '##al', 'cancer', '##oid', 'treatments', 'tumor', 'surgery', 'drug', 'cure', 'chemotherapy', 'medication', 'inhibitor', 'remedy', 'procedure', 'help', 'intervention', 'clinic', 'vaccine', '##ren', 'dose', '##cino', 'laser', 'diagnosis', '##oma', 'technique']\n",
      "-----\n",
      "Matched document ID:  68507\n",
      "Score:  10.672612\n",
      "Name:  cutaneous melanoma\n",
      " treatment\n",
      "\n",
      "Expanded keywords:  ['##ano', '##aneous', 'treatment', 'cut', 'mel', '##ma', 'therapy', 'treated', 'cancer', 'skin', 'treatments', 'surgery', 'cure', 'tumor', 'remedy', 'drug', 'procedure', 'laser', 'spray', 'technique', 'medication', 'heal', 'chemotherapy', 'injection', 'intervention', 'cutting', '##tion', 'clinic', 'vaccine', 'brace']\n",
      "-----\n",
      "Matched document ID:  110366\n",
      "Score:  10.672612\n",
      "Name:  melanoma\n",
      " limbs\n",
      " treatment\n",
      "\n",
      "Expanded keywords:  ['##ano', 'limbs', 'mel', 'treatment', 'limb', '##ma', 'treated', 'therapy', 'cancer', 'legs', 'surgery', 'brace', 'treatments', 'tumor', 'procedure', 'cure', 'remedy', 'wound', 'heal', 'technique', 'laser', 'shock', 'massage', 'arm', 'clinic', 'help', 'vein', '##tion', 'device', 'skin', 'injury', 'intervention', 'remove', 'medication', 'implant', 'restoration', 'spray']\n",
      "-----\n",
      "Matched document ID:  119133\n",
      "Score:  10.672612\n",
      "Name:  Malignant melanoma\n",
      " treatment\n",
      "\n",
      "Expanded keywords:  ['treatment', 'mali', '##gnant', '##ano', 'mel', 'therapy', 'treated', '##ma', 'cancer', 'tumor', 'treatments', 'chemotherapy', 'cure', 'surgery', 'drug', 'intervention', 'medication', 'procedure', 'inhibitor', 'diagnosis', 'vaccine', 'detection', 'remedy', 'laser', '##cino', 'clinic', '##therapy', 'hospital', 'trial', 'bomb', 'restoration', 'survival']\n",
      "-----\n",
      "Matched document ID:  215606\n",
      "Score:  10.672612\n",
      "Name:  ocular melanoma\n",
      " treatment\n",
      "\n",
      "Expanded keywords:  ['##ano', 'treatment', '##cular', 'mel', '##ma', 'o', 'eye', 'therapy', 'treated', 'cancer', 'surgery', 'laser', 'treatments', 'tumor', '##ular', 'drug', 'procedure', 'clinic', 'cure', 'detection', 'remedy', 'help', 'vaccine', 'medication', 'diagnosis', 'technique', 'ray', 'spray', 'lens', 'intervention', '##tion', 'brace', 'injection', '##cino', 'inhibitor', 'chemotherapy', 'restoration']\n",
      "-----\n"
     ]
    },
    {
     "name": "stderr",
     "output_type": "stream",
     "text": [
      "/tmp/ipykernel_17682/3893272934.py:5: DeprecationWarning: The 'body' parameter is deprecated and will be removed in a future version. Instead use individual parameters.\n",
      "  response = es.search(\n",
      "/tmp/ipykernel_17682/3893272934.py:5: ElasticsearchWarning: Elasticsearch built-in security features are not enabled. Without authentication, your cluster could be accessible to anyone. See https://www.elastic.co/guide/en/elasticsearch/reference/7.17/security-minimal-setup.html to enable security.\n",
      "  response = es.search(\n"
     ]
    }
   ],
   "source": [
    "# Your query string\n",
    "query = \"melanoma treatment\"\n",
    "\n",
    "# Perform the search\n",
    "response = es.search(\n",
    "    index=index_name,\n",
    "    body={\n",
    "        \"query\": {\n",
    "            \"match\": {\n",
    "                \"name\": query\n",
    "            }\n",
    "        }\n",
    "    }\n",
    ")\n",
    "\n",
    "# Print the IDs, scores, names, and expanded_keywords of the matching documents\n",
    "for hit in response[\"hits\"][\"hits\"]:\n",
    "    print(\"Matched document ID: \", hit[\"_id\"])\n",
    "    print(\"Score: \", hit[\"_score\"])\n",
    "    print(\"Name: \", hit[\"_source\"][\"name\"])\n",
    "    print(\"Expanded keywords: \", hit[\"_source\"][\"expanded_keywords\"])\n",
    "    print(\"-----\")"
   ]
  }
 ],
 "metadata": {
  "kernelspec": {
   "display_name": "events",
   "language": "python",
   "name": "python3"
  },
  "language_info": {
   "codemirror_mode": {
    "name": "ipython",
    "version": 3
   },
   "file_extension": ".py",
   "mimetype": "text/x-python",
   "name": "python",
   "nbconvert_exporter": "python",
   "pygments_lexer": "ipython3",
   "version": "3.8.5"
  },
  "orig_nbformat": 4
 },
 "nbformat": 4,
 "nbformat_minor": 2
}
