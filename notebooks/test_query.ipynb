{
 "cells": [
  {
   "cell_type": "code",
   "execution_count": 1,
   "metadata": {},
   "outputs": [],
   "source": [
    "%load_ext autoreload\n",
    "%autoreload 2\n"
   ]
  },
  {
   "cell_type": "code",
   "execution_count": 3,
   "metadata": {},
   "outputs": [],
   "source": [
    "%%capture --no-display\n",
    "from bef.search.search_utils import (vector_search,\n",
    "                              search_and_print, search_apply_kernel)\n",
    "import numpy as np\n",
    "import faiss\n",
    "import pickle\n",
    "import torch\n",
    "import os\n",
    "import json\n",
    "from sentence_transformers import SentenceTransformer\n"
   ]
  },
  {
   "cell_type": "code",
   "execution_count": null,
   "metadata": {},
   "outputs": [],
   "source": [
    "DATA_DIR = '../data/pubmed_small_graph/'\n"
   ]
  },
  {
   "cell_type": "code",
   "execution_count": 12,
   "metadata": {},
   "outputs": [],
   "source": [
    "graphs = []\n",
    "#loading with no embeddings\n",
    "# with open(DATA_DIR + 'graphs.json') as ff:\n",
    "with open('/home/julio/repos/event_finder/data/pubmed_2000s/cg/events_graph.json') as ff:\n",
    "    for g in json.load(ff):\n",
    "        # for node in g['nodes']:\n",
    "        #     node.pop('embedding')\n",
    "        graphs.append(g)\n"
   ]
  },
  {
   "cell_type": "code",
   "execution_count": 5,
   "metadata": {},
   "outputs": [],
   "source": [
    "# BERT_MODEL = 'all-mpnet-base-v2'\n",
    "BERT_MODEL = 'all-MiniLM-L12-v2'\n",
    "sentence_emb_model = SentenceTransformer(BERT_MODEL)\n"
   ]
  },
  {
   "cell_type": "code",
   "execution_count": 7,
   "metadata": {},
   "outputs": [],
   "source": [
    "# index = faiss.read_index(os.path.join(\n",
    "#     DATA_DIR, 'faiss_sbert_all-MiniLM-L12-v2'))\n",
    "index = faiss.read_index('/home/julio/repos/event_finder/data/pubmed_2000s/cg/events_graph.index')\n",
    "# index = faiss.read_index(os.path.join(DATA_DIR, 'faiss_index.bin'))\n"
   ]
  },
  {
   "cell_type": "code",
   "execution_count": 10,
   "metadata": {},
   "outputs": [],
   "source": [
    "DIR = '/home/julio/repos/event_finder/data/pubmed_2000s/cg'\n",
    "with open(os.path.join(DIR, 'events_graph.kernel'), 'rb') as handle:\n",
    "    kernel = pickle.load(handle)\n",
    "\n",
    "with open(os.path.join(DIR, 'events_graph.bias'), 'rb') as handle:\n",
    "    bias = pickle.load(handle)\n"
   ]
  },
  {
   "cell_type": "code",
   "execution_count": 13,
   "metadata": {},
   "outputs": [
    {
     "name": "stdout",
     "output_type": "stream",
     "text": [
      "[0.26544347405433655, 0.29381242394447327, 0.29681000113487244, 0.29930394887924194, 0.29994985461235046, 0.30134910345077515, 0.30535298585891724, 0.30690687894821167, 0.30690696835517883, 0.3105822205543518]\n",
      "[[ 8195408 12608758  3312007 12687279  6878190 10648823   124620   513313\n",
      "  11879647 12714442]]\n",
      "Searching took:  0.04805111885070801\n",
      "id:  8195408 distance:  0.26544347405433655\n",
      "[{'id': 'T38',\n",
      "  'name': 'choline acetyltransferase\\n',\n",
      "  'type': 'Gene_or_gene_product'},\n",
      " {'id': 'T69', 'name': 'localization\\n', 'type': 'Localization'},\n",
      " {'id': 'T37', 'name': 'AChE\\n', 'type': 'Gene_or_gene_product'}]\n",
      "\n",
      "id:  12608758 distance:  0.29381242394447327\n",
      "[{'id': 'T1',\n",
      "  'name': 'choline acetyltransferase\\n',\n",
      "  'type': 'Gene_or_gene_product'},\n",
      " {'id': 'T2', 'name': 'Localization\\n', 'type': 'Localization'}]\n",
      "\n",
      "id:  3312007 distance:  0.29681000113487244\n",
      "[{'id': 'T20', 'name': 'ventral horn\\n', 'type': 'Multi-tissue_structure'},\n",
      " {'id': 'T44', 'name': 'located\\n', 'type': 'Localization'},\n",
      " {'id': 'T19',\n",
      "  'name': 'choline acetyltransferase\\n',\n",
      "  'type': 'Gene_or_gene_product'}]\n",
      "\n",
      "id:  12687279 distance:  0.29930394887924194\n",
      "[{'id': 'T1',\n",
      "  'name': 'Acetycholine receptor\\n',\n",
      "  'type': 'Gene_or_gene_product'},\n",
      " {'id': 'T3', 'name': 'production\\n', 'type': 'Gene_expression'}]\n",
      "\n",
      "id:  6878190 distance:  0.29994985461235046\n",
      "[{'id': 'T5', 'name': 'CNS\\n', 'type': 'Anatomical_system'},\n",
      " {'id': 'T3',\n",
      "  'name': 'Choline acetyltransferase\\n',\n",
      "  'type': 'Gene_or_gene_product'},\n",
      " {'id': 'T26', 'name': 'distributed\\n', 'type': 'Localization'}]\n",
      "\n",
      "id:  10648823 distance:  0.30134910345077515\n",
      "[{'id': 'T24', 'name': 'AChE\\n', 'type': 'Gene_or_gene_product'},\n",
      " {'id': 'T47', 'name': 'expression\\n', 'type': 'Gene_expression'},\n",
      " {'id': 'T22',\n",
      "  'name': 'choline acetyltransferase\\n',\n",
      "  'type': 'Gene_or_gene_product'}]\n",
      "\n",
      "id:  124620 distance:  0.30535298585891724\n",
      "[{'id': 'T28', 'name': 'localization\\n', 'type': 'Localization'},\n",
      " {'id': 'T6',\n",
      "  'name': 'choline acetyltransferase\\n',\n",
      "  'type': 'Gene_or_gene_product'}]\n",
      "\n",
      "id:  513313 distance:  0.30690687894821167\n",
      "[{'id': 'T42', 'name': 'Distribution\\n', 'type': 'Localization'},\n",
      " {'id': 'T1',\n",
      "  'name': 'choline acetyltransferase\\n',\n",
      "  'type': 'Gene_or_gene_product'}]\n",
      "\n",
      "id:  11879647 distance:  0.30690696835517883\n",
      "[{'id': 'T64', 'name': 'distribution\\n', 'type': 'Localization'},\n",
      " {'id': 'T1',\n",
      "  'name': 'choline acetyltransferase\\n',\n",
      "  'type': 'Gene_or_gene_product'}]\n",
      "\n",
      "id:  12714442 distance:  0.3105822205543518\n",
      "[{'id': 'T1',\n",
      "  'name': 'choline acetyltransferase\\n',\n",
      "  'type': 'Gene_or_gene_product'},\n",
      " {'id': 'T4', 'name': 'accumulation\\n', 'type': 'Positive_regulation'}]\n",
      "\n"
     ]
    }
   ],
   "source": [
    "#No results in sstar\n",
    "user_query = \"the acetycholine produces catabolism \"\n",
    "# search_and_print(user_query, sentence_emb_model, index, graphs)\n",
    "search_apply_kernel(user_query, sentence_emb_model, index, graphs,kernel,bias)\n"
   ]
  },
  {
   "cell_type": "code",
   "execution_count": null,
   "metadata": {},
   "outputs": [],
   "source": []
  }
 ],
 "metadata": {
  "kernelspec": {
   "display_name": "Python 3.8.5 ('pytorch')",
   "language": "python",
   "name": "python3"
  },
  "language_info": {
   "codemirror_mode": {
    "name": "ipython",
    "version": 3
   },
   "file_extension": ".py",
   "mimetype": "text/x-python",
   "name": "python",
   "nbconvert_exporter": "python",
   "pygments_lexer": "ipython3",
   "version": "3.10.13"
  },
  "orig_nbformat": 4,
  "vscode": {
   "interpreter": {
    "hash": "6606c6fdba329aef57b9c3180ba0b52f275d542c703cd89ea26923bc270f74f7"
   }
  }
 },
 "nbformat": 4,
 "nbformat_minor": 2
}
