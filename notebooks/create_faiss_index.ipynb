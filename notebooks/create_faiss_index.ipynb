{
 "cells": [
  {
   "cell_type": "code",
   "execution_count": 1,
   "metadata": {
    "execution": {
     "iopub.execute_input": "2021-07-06T01:19:13.201779Z",
     "iopub.status.busy": "2021-07-06T01:19:13.201366Z",
     "iopub.status.idle": "2021-07-06T01:19:13.218307Z",
     "shell.execute_reply": "2021-07-06T01:19:13.217686Z",
     "shell.execute_reply.started": "2021-07-06T01:19:13.201668Z"
    },
    "tags": []
   },
   "outputs": [],
   "source": [
    "%load_ext autoreload\n",
    "%autoreload 2\n"
   ]
  },
  {
   "cell_type": "code",
   "execution_count": 2,
   "metadata": {
    "execution": {
     "iopub.execute_input": "2021-07-06T01:19:14.741846Z",
     "iopub.status.busy": "2021-07-06T01:19:14.741579Z",
     "iopub.status.idle": "2021-07-06T01:19:38.224797Z",
     "shell.execute_reply": "2021-07-06T01:19:38.223915Z",
     "shell.execute_reply.started": "2021-07-06T01:19:14.741812Z"
    },
    "tags": []
   },
   "outputs": [],
   "source": [
    "%%capture --no-display\n",
    "import sys\n",
    "\n",
    "# from embedding import Embed,EmbedBERT\n",
    "\n",
    "import numpy as np\n",
    "import faiss\n",
    "import pickle\n",
    "import torch\n",
    "import os\n",
    "import json\n",
    "from sentence_transformers import SentenceTransformer"
   ]
  },
  {
   "cell_type": "code",
   "execution_count": 3,
   "metadata": {},
   "outputs": [
    {
     "data": {
      "text/plain": [
       "True"
      ]
     },
     "execution_count": 3,
     "metadata": {},
     "output_type": "execute_result"
    }
   ],
   "source": [
    "torch.cuda.is_available()"
   ]
  },
  {
   "cell_type": "code",
   "execution_count": 4,
   "metadata": {},
   "outputs": [],
   "source": [
    "\n",
    "def create_index_compressed(embs, ids=None):\n",
    "    \"\"\"\n",
    "    Create a compressed Faiss index using the provided embeddings and IDs.\n",
    "\n",
    "    :param embs: Embeddings to be indexed.\n",
    "    :type embs: numpy array\n",
    "    :param ids: IDs corresponding to the embeddings.\n",
    "    :type ids: numpy array or None\n",
    "\n",
    "    :return: Compressed Faiss index.\n",
    "    \"\"\"\n",
    "    emb_size = embs.shape[1]\n",
    "    print(\"Loading embeddings..\")\n",
    "\n",
    "    nlist = 100\n",
    "    k = 4\n",
    "    ngpus = faiss.get_num_gpus()\n",
    "    print(\"Number of GPUs:\", ngpus)\n",
    "    print(\"Creating index..\")\n",
    "    res = faiss.StandardGpuResources()  # Use standard GPU resources\n",
    "    index2 = faiss.index_factory(emb_size, \"PCA64,IVF16384_HNSW32,Flat\")\n",
    "    index_ivf = faiss.extract_index_ivf(index2)\n",
    "    clustering_index = faiss.index_cpu_to_all_gpus(faiss.IndexFlatL2(64))\n",
    "    index_ivf.clustering_index = clustering_index\n",
    "\n",
    "    # Convert the index to GPU\n",
    "    # index_gpu = faiss.index_cpu_to_all_gpus(index2)\n",
    "    index_gpu = faiss.index_cpu_to_gpu(res, 0, index2)\n",
    "\n",
    "    print(\"Training..\")\n",
    "    index_gpu.train(embs)\n",
    "    print(\"Adding embeddings to index..\")\n",
    "    if ids is not None:\n",
    "        index_gpu.add_with_ids(embs, ids)\n",
    "    else:\n",
    "        index_gpu.add(embs)\n",
    "    return index_gpu\n"
   ]
  },
  {
   "cell_type": "code",
   "execution_count": 5,
   "metadata": {},
   "outputs": [
    {
     "name": "stdout",
     "output_type": "stream",
     "text": [
      "Loading embeddings..\n",
      "Number of GPUs: 4\n",
      "Creating index..\n",
      "Training..\n"
     ]
    },
    {
     "ename": "",
     "evalue": "",
     "output_type": "error",
     "traceback": [
      "\u001b[1;31mCannot execute code, session has been disposed. Please try restarting the Kernel."
     ]
    },
    {
     "ename": "",
     "evalue": "",
     "output_type": "error",
     "traceback": [
      "\u001b[1;31mThe Kernel crashed while executing code in the the current cell or a previous cell. Please review the code in the cell(s) to identify a possible cause of the failure. Click <a href='https://aka.ms/vscodeJupyterKernelCrash'>here</a> for more info. View Jupyter <a href='command:jupyter.viewOutput'>log</a> for further details."
     ]
    }
   ],
   "source": [
    "\n",
    "# Example usage:\n",
    "num_embeddings = 30000\n",
    "embedding_dim = 128\n",
    "embs = np.random.rand(num_embeddings, embedding_dim).astype('float32')\n",
    "ids = np.arange(num_embeddings).astype(np.int64)  # Example IDs: 0 to 9999\n",
    "\n",
    "# Create Faiss index\n",
    "index = create_index_compressed(embs, ids)\n",
    "\n",
    "# Test the index by searching for the nearest neighbors of a random query\n",
    "query = np.random.rand(1, embedding_dim).astype('float32')\n",
    "k = 5  # number of nearest neighbors to retrieve\n",
    "distances, indices = index.search(query, k)\n",
    "\n",
    "print(\"Nearest neighbors for the query:\")\n",
    "print(indices)\n"
   ]
  },
  {
   "cell_type": "markdown",
   "metadata": {},
   "source": [
    "For ncbitaxon we created a Faiss compressed index, since the ontology is pretty big. "
   ]
  },
  {
   "cell_type": "code",
   "execution_count": 20,
   "metadata": {},
   "outputs": [],
   "source": [
    "from faiss_utils.faiss_indexes import (create_index_flat, create_index_HNSW,\n",
    "                            create_index_compressed,create_index_IVF)\n"
   ]
  },
  {
   "cell_type": "code",
   "execution_count": 21,
   "metadata": {},
   "outputs": [],
   "source": [
    "DATA_DIR = '../data/pubmed_small_graph/'   "
   ]
  },
  {
   "cell_type": "code",
   "execution_count": 22,
   "metadata": {},
   "outputs": [],
   "source": [
    "embeddings = []\n",
    "with open(DATA_DIR + 'sentence_bert_embs_graph.json') as ff:\n",
    "    for g in json.load(ff):\n",
    "        embeddings.append(g['embedding'])\n"
   ]
  },
  {
   "cell_type": "code",
   "execution_count": 23,
   "metadata": {},
   "outputs": [],
   "source": [
    "#TypeError: in method 'IndexPreTransform_train', argument 3 of type 'float const *'\n",
    "embeddings = np.array(embeddings, dtype=np.float32)\n",
    "d = embeddings.shape[1]\n"
   ]
  },
  {
   "cell_type": "code",
   "execution_count": 27,
   "metadata": {
    "execution": {
     "iopub.execute_input": "2021-07-06T01:20:17.455909Z",
     "iopub.status.busy": "2021-07-06T01:20:17.455624Z",
     "iopub.status.idle": "2021-07-06T01:20:35.095433Z",
     "shell.execute_reply": "2021-07-06T01:20:35.094797Z",
     "shell.execute_reply.started": "2021-07-06T01:20:17.455873Z"
    },
    "tags": []
   },
   "outputs": [
    {
     "name": "stdout",
     "output_type": "stream",
     "text": [
      "Loading embeddings..\n"
     ]
    }
   ],
   "source": [
    "\n",
    "index = create_index_flat(embeddings, d)\n"
   ]
  },
  {
   "cell_type": "code",
   "execution_count": 28,
   "metadata": {},
   "outputs": [],
   "source": [
    "# index_file = os.path.join('out', ONTOLOGY, ONTOLOGY+'.index')\n",
    "faiss.write_index(index, os.path.join(DATA_DIR,'faiss_index_flat.bin'))\n"
   ]
  }
 ],
 "metadata": {
  "kernelspec": {
   "display_name": "FAISS",
   "language": "python",
   "name": "faiss"
  },
  "language_info": {
   "codemirror_mode": {
    "name": "ipython",
    "version": 3
   },
   "file_extension": ".py",
   "mimetype": "text/x-python",
   "name": "python",
   "nbconvert_exporter": "python",
   "pygments_lexer": "ipython3",
   "version": "3.10.13"
  }
 },
 "nbformat": 4,
 "nbformat_minor": 4
}
