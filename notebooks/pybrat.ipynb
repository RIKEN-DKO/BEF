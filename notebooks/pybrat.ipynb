{
 "cells": [
  {
   "cell_type": "code",
   "execution_count": 1,
   "metadata": {},
   "outputs": [],
   "source": [
    "\n",
    "import dataclasses\n",
    "\n",
    "from pybrat.parser import BratParser, Entity, Event, Example, Relation\n"
   ]
  },
  {
   "cell_type": "code",
   "execution_count": 12,
   "metadata": {},
   "outputs": [],
   "source": [
    "\n",
    "# Initialize a parser.\n",
    "brat = BratParser(error=\"ignore\")\n",
    "examples = brat.parse(\"/home/julio/repos/DeepEventMine/brat/brat-v1.3_Crunchy_Frog/example-data/corpora/BioNLP-ST_2011\")\n"
   ]
  },
  {
   "cell_type": "code",
   "execution_count": 13,
   "metadata": {},
   "outputs": [
    {
     "data": {
      "text/plain": [
       "80"
      ]
     },
     "execution_count": 13,
     "metadata": {},
     "output_type": "execute_result"
    }
   ],
   "source": [
    "len(examples)"
   ]
  },
  {
   "cell_type": "code",
   "execution_count": 3,
   "metadata": {},
   "outputs": [],
   "source": [
    "\n",
    "# The praser returns dataclasses.\n",
    "assert len(examples) == 80\n",
    "assert all(isinstance(x, Example) for x in examples)\n",
    "assert all(isinstance(e, Entity) for x in examples for e in x.entities)\n",
    "assert all(isinstance(e, Relation) for x in examples for e in x.relations)\n",
    "assert all(isinstance(e, Event) for x in examples for e in x.events)\n"
   ]
  },
  {
   "cell_type": "code",
   "execution_count": 4,
   "metadata": {},
   "outputs": [
    {
     "name": "stdout",
     "output_type": "stream",
     "text": [
      "Epigenetic inheritance through self-recruitment of the polycomb repressive complex 2. \n",
      "Maintenance of gene expression through epigenetic mechanisms such as DNA- and histone-methylation is essential for preserving cellular identity and function. Multiplication of eukaryotic cells requires that the DNA content of the cell is duplicated through replication, which is coupled to incorporation of de novo synthesized core histones into nucleosomal structures. One of the challenging questions in biology is to explain how the organism ensures that regulatory epigenetic marks, once established, are transferred from one cell generation to the next. Based on studies in our laboratory, we have recently proposed a model for how the methylated lysine 27 of histone H3 (H3K27) can be stably transmitted through the cell division cycle. We found that the Polycomb Repressive Complex 2 (PRC2), which is responsible for di- and trimethylation of H3K27 (H3K27me2/me3), binds to its own site of methylation. Moreover, our results suggested that maintenance of transcriptional repression by PRC2 requires the binding of the PRC2 complex to H3K27me3/me2. Based on these two key observations we propose that PRC2 is able to copy the mark from an old parental H3 molecule to a newly synthesized H3 molecule as DNA replication proceeds. In addition, our results support a model for how the H3K27me3 mark could be preserved in the interphase of the cell cycle, where other events such as histone exchange and demethylation could counteract PRC2 function. Here we discuss the implications of our results in further detail.\n",
      "\n",
      "20 Entity(mention='histone', type='Protein', spans=[Span(start=165, end=172)], references=[], id='T1')\n",
      "4 Relation(type='Equiv', arg1=Entity(mention='lysine 27', type='Entity', spans=[Span(start=739, end=748)], references=[], id='T14'), arg2=Entity(mention='K27', type='Entity', spans=[Span(start=766, end=769)], references=[], id='T15'), id='Equiv:T14-T15')\n",
      "5 Event(type='Methylation', trigger=Entity(mention='methylation', type='Methylation', spans=[Span(start=173, end=184)], references=[], id='T12'), arguments=[Entity(mention='histone', type='Protein', spans=[Span(start=165, end=172)], references=[], id='T1')], id='E1')\n"
     ]
    }
   ],
   "source": [
    "\n",
    "id_ = \"BioNLP-ST_2011_EPI/PMID-19377285\"\n",
    "example = next(x for x in examples if x.id == id_)\n",
    "print(example.text)\n",
    "print(len(example.entities), next(iter(example.entities)))\n",
    "print(len(example.relations), next(iter(example.relations)))\n",
    "print(len(example.events), next(iter(example.events)))\n"
   ]
  },
  {
   "cell_type": "code",
   "execution_count": 5,
   "metadata": {},
   "outputs": [
    {
     "name": "stdout",
     "output_type": "stream",
     "text": [
      "{'text': 'Canine COL1A2 mutation resulting in C-terminal truncation of pro-alpha2(I) and severe osteogenesis imperfecta. \\nRNA and type I collagen were analyzed from cultured skin fibroblasts of a Beagle puppy with fractures consistent with type III osteogenesis imperfecta (OI). In a nonisotopic RNAse cleavage assay (NIRCA), the proband\\'s RNA had a unique cleavage pattern in the region of COL1A2 encoding the C-propeptide. DNA sequence analyses identified a mutation in which nucleotides 3991-3994 (\"CTAG\") were replaced with \"TGTCATTGG.\" The first seven bases of the inserted sequence were identical to nucleotides 4002-4008 of the normal canine COL1A2 sequence. The resulting frameshift changed 30 amino acids and introduced a premature stop codon. Reverse-transcription polymerase chain reaction (RT-PCR) with primers flanking the mutation site amplified two complementary DNA (cDNA) fragments for the proband and a single product for the control. Restriction enzyme digestions also were consistent with a heterozygous mutation in the proband. Type I procollagen labeled with [3H]proline was analyzed by sodium dodecyl sulfate-polyacrylamide gel electrophoresis (SDS-PAGE). Increased density of pC-alpha2(I) suggested comigration with the similarly sized pro-alpha2(I) derived from the mutant allele. Furthermore, a-chains were overhydroxylated and the ratio of alpha1(I):alpha2(I) was 3.2:1, consistent with the presence of alpha1(I) homotrimers. Analyses of COL1A2 and type I collagen were both consistent with the described heterozygous mutation affecting the pro-alpha2(I) C-propeptide and confirmed a diagnosis of OI.\\n', 'entities': [{'mention': 'COL1A2', 'type': 'Protein', 'spans': [{'start': 7, 'end': 13}], 'references': [], 'id': 'T1'}, {'mention': 'COL1A2', 'type': 'Protein', 'spans': [{'start': 381, 'end': 387}], 'references': [], 'id': 'T2'}, {'mention': 'C-propeptide', 'type': 'Protein', 'spans': [{'start': 401, 'end': 413}], 'references': [], 'id': 'T3'}, {'mention': 'COL1A2', 'type': 'Protein', 'spans': [{'start': 639, 'end': 645}], 'references': [], 'id': 'T4'}, {'mention': 'pC-alpha2(I)', 'type': 'Protein', 'spans': [{'start': 1190, 'end': 1202}], 'references': [], 'id': 'T5'}, {'mention': 'alpha2(I)', 'type': 'Protein', 'spans': [{'start': 1254, 'end': 1263}], 'references': [], 'id': 'T6'}, {'mention': 'alpha1(I)', 'type': 'Protein', 'spans': [{'start': 1357, 'end': 1366}], 'references': [], 'id': 'T7'}, {'mention': 'alpha2(I)', 'type': 'Protein', 'spans': [{'start': 1367, 'end': 1376}], 'references': [], 'id': 'T8'}, {'mention': 'alpha1(I)', 'type': 'Protein', 'spans': [{'start': 1420, 'end': 1429}], 'references': [], 'id': 'T9'}, {'mention': 'COL1A2', 'type': 'Protein', 'spans': [{'start': 1455, 'end': 1461}], 'references': [], 'id': 'T10'}, {'mention': 'alpha2(I)', 'type': 'Protein', 'spans': [{'start': 1562, 'end': 1571}], 'references': [], 'id': 'T11'}, {'mention': 'overhydroxylated', 'type': 'Hydroxylation', 'spans': [{'start': 1323, 'end': 1339}], 'references': [], 'id': 'T12'}], 'relations': [], 'events': [{'type': 'Hydroxylation', 'trigger': {'mention': 'overhydroxylated', 'type': 'Hydroxylation', 'spans': [{'start': 1323, 'end': 1339}], 'references': [], 'id': 'T12'}, 'arguments': [{'mention': 'alpha1(I)', 'type': 'Protein', 'spans': [{'start': 1357, 'end': 1366}], 'references': [], 'id': 'T7'}], 'id': 'E1'}, {'type': 'Hydroxylation', 'trigger': {'mention': 'overhydroxylated', 'type': 'Hydroxylation', 'spans': [{'start': 1323, 'end': 1339}], 'references': [], 'id': 'T12'}, 'arguments': [{'mention': 'alpha2(I)', 'type': 'Protein', 'spans': [{'start': 1367, 'end': 1376}], 'references': [], 'id': 'T8'}], 'id': 'E2'}], 'id': 'BioNLP-ST_2011_EPI/PMID-11393792'}\n"
     ]
    }
   ],
   "source": [
    "\n",
    "# Use dataclasses.asdict to convert examples to dictionaries.\n",
    "examples = [*map(dataclasses.asdict, examples)]\n",
    "assert all(isinstance(x, dict) for x in examples)\n",
    "assert all(isinstance(e, dict) for x in examples for e in x[\"entities\"])\n",
    "assert all(isinstance(e, dict) for x in examples for e in x[\"relations\"])\n",
    "assert all(isinstance(e, dict) for x in examples for e in x[\"events\"])\n",
    "\n",
    "print(examples[0])"
   ]
  },
  {
   "cell_type": "code",
   "execution_count": 11,
   "metadata": {},
   "outputs": [],
   "source": [
    "brat = BratParser()\n",
    "examples = brat.parse(\"/home/julio/repos/DeepEventMine/brat/brat-v1.3_Crunchy_Frog/data/1370299-brat\")\n"
   ]
  },
  {
   "cell_type": "code",
   "execution_count": 9,
   "metadata": {},
   "outputs": [
    {
     "name": "stdout",
     "output_type": "stream",
     "text": [
      "Autocrine angiotensin system regulation of bovine aortic endothelial cell migration and plasminogen activator involves modulation of proto-oncogene pp60c-src expression.\n",
      "\n",
      "Rapid endothelial cell migration and inhibition of thrombosis are critical for the resolution of denudation injuries to the vessel wall. Inhibition of the endothelial cell autocrine angiotensin system, with either the angiotensin-converting enzyme inhibitor lisinopril or the angiotensin II receptor antagonist sar1, ile8-angiotensin II, leads to increased endothelial cell migration and urokinase-like plasminogen activator (u-PA) activity (Bell, L., and J. A. Madri. 1990. Am. J. Pathol. 137:7-12). Inhibition of the autocrine angiotensin system with the converting-enzyme inhibitor or the receptor antagonist also leads to increased expression of the proto-oncogene c-src: pp60c-src mRNA increased 7-11-fold, c-src protein 3-fold, and c-src kinase activity 2-3-fold. Endothelial cell expression of c-src was constitutively elevated after stable infection with a retroviral vector containing the c-src coding sequence. Constitutively increased c-src kinase activity reconstituted the increases in migration and u-PA observed with angiotensin system interruption. Antisera to bovine u-PA blocked the increase in migration associated with increased c-src expression. These data suggest that increases in endothelial cell migration and plasminogen activator after angiotensin system inhibition are at least partially pp60c-src mediated. Elevated c-src expression with angiotensin system inhibition may act to enhance intimal wound closure and to reduce luminal thrombogenicity in vivo.\n",
      "72 Entity(mention='bovine', type='Organism', spans=[Span(start=43, end=49)], references=[], id='T1')\n",
      "30 Event(type='Localization', trigger=Entity(mention='migration', type='Localization', spans=[Span(start=74, end=83)], references=[], id='T35'), arguments=[Entity(mention='aortic endothelial cell', type='Cell', spans=[Span(start=50, end=73)], references=[], id='T2')], id='E1')\n"
     ]
    }
   ],
   "source": [
    "# example = next(x for x in examples)\n",
    "print(example.text)\n",
    "\n",
    "for example in examples:\n",
    "    print(len(example.entities), next(iter(example.entities)))\n",
    "    # print(len(example.relations), next(iter(example.relations)))\n",
    "    print(len(example.events), next(iter(example.events)))\n"
   ]
  },
  {
   "cell_type": "code",
   "execution_count": 10,
   "metadata": {},
   "outputs": [
    {
     "data": {
      "text/plain": [
       "1"
      ]
     },
     "execution_count": 10,
     "metadata": {},
     "output_type": "execute_result"
    }
   ],
   "source": [
    "len(examples)"
   ]
  },
  {
   "cell_type": "code",
   "execution_count": 14,
   "metadata": {},
   "outputs": [],
   "source": [
    "from brat_parser import get_entities_relations_attributes_groups\n"
   ]
  },
  {
   "cell_type": "code",
   "execution_count": 15,
   "metadata": {},
   "outputs": [],
   "source": [
    "\n",
    "entities, relations, attributes, groups = get_entities_relations_attributes_groups(\n",
    "    \"/home/julio/repos/DeepEventMine/brat/brat-v1.3_Crunchy_Frog/data/1370299-brat/PMID-1370299.ann\")\n"
   ]
  },
  {
   "cell_type": "code",
   "execution_count": 20,
   "metadata": {},
   "outputs": [
    {
     "data": {
      "text/plain": [
       "{'T1': Entity(id='T1', type='Organism', span=((43, 49),), text='bovine'),\n",
       " 'T2': Entity(id='T2', type='Cell', span=((50, 73),), text='aortic endothelial cell'),\n",
       " 'T3': Entity(id='T3', type='Gene_or_gene_product', span=((88, 109),), text='plasminogen activator'),\n",
       " 'T4': Entity(id='T4', type='Gene_or_gene_product', span=((148, 157),), text='pp60c-src'),\n",
       " 'T5': Entity(id='T5', type='Cell', span=((177, 193),), text='endothelial cell'),\n",
       " 'T6': Entity(id='T6', type='Multi-tissue_structure', span=((295, 306),), text='vessel wall'),\n",
       " 'T7': Entity(id='T7', type='Cell', span=((326, 342),), text='endothelial cell'),\n",
       " 'T8': Entity(id='T8', type='Simple_chemical', span=((353, 364),), text='angiotensin'),\n",
       " 'T9': Entity(id='T9', type='Gene_or_gene_product', span=((389, 418),), text='angiotensin-converting enzyme'),\n",
       " 'T10': Entity(id='T10', type='Simple_chemical', span=((429, 439),), text='lisinopril'),\n",
       " 'T11': Entity(id='T11', type='Simple_chemical', span=((493, 507),), text='angiotensin II'),\n",
       " 'T12': Entity(id='T12', type='Cell', span=((528, 544),), text='endothelial cell'),\n",
       " 'T13': Entity(id='T13', type='Gene_or_gene_product', span=((559, 595),), text='urokinase-like plasminogen activator'),\n",
       " 'T14': Entity(id='T14', type='Gene_or_gene_product', span=((597, 601),), text='u-PA'),\n",
       " 'T15': Entity(id='T15', type='Simple_chemical', span=((700, 711),), text='angiotensin'),\n",
       " 'T16': Entity(id='T16', type='Gene_or_gene_product', span=((728, 745),), text='converting-enzyme'),\n",
       " 'T17': Entity(id='T17', type='Gene_or_gene_product', span=((840, 845),), text='c-src'),\n",
       " 'T18': Entity(id='T18', type='Gene_or_gene_product', span=((847, 856),), text='pp60c-src'),\n",
       " 'T19': Entity(id='T19', type='Gene_or_gene_product', span=((883, 888),), text='c-src'),\n",
       " 'T20': Entity(id='T20', type='Cell', span=((941, 957),), text='Endothelial cell'),\n",
       " 'T21': Entity(id='T21', type='Gene_or_gene_product', span=((972, 977),), text='c-src'),\n",
       " 'T22': Entity(id='T22', type='Gene_or_gene_product', span=((1069, 1074),), text='c-src'),\n",
       " 'T23': Entity(id='T23', type='Gene_or_gene_product', span=((1184, 1188),), text='u-PA'),\n",
       " 'T24': Entity(id='T24', type='Organism', span=((1248, 1254),), text='bovine'),\n",
       " 'T25': Entity(id='T25', type='Gene_or_gene_product', span=((1255, 1259),), text='u-PA'),\n",
       " 'T26': Entity(id='T26', type='Gene_or_gene_product', span=((1320, 1325),), text='c-src'),\n",
       " 'T27': Entity(id='T27', type='Cell', span=((1375, 1391),), text='endothelial cell'),\n",
       " 'T28': Entity(id='T28', type='Gene_or_gene_product', span=((1406, 1427),), text='plasminogen activator'),\n",
       " 'T29': Entity(id='T29', type='Gene_or_gene_product', span=((1487, 1496),), text='pp60c-src'),\n",
       " 'T30': Entity(id='T30', type='Gene_or_gene_product', span=((1516, 1521),), text='c-src'),\n",
       " 'T31': Entity(id='T31', type='Tissue', span=((1587, 1594),), text='intimal'),\n",
       " 'T32': Entity(id='T32', type='Pathological_formation', span=((1595, 1600),), text='wound'),\n",
       " 'T33': Entity(id='T33', type='Multi-tissue_structure', span=((1623, 1630),), text='luminal'),\n",
       " 'T34': Entity(id='T34', type='Regulation', span=((29, 39),), text='regulation'),\n",
       " 'T35': Entity(id='T35', type='Localization', span=((74, 83),), text='migration'),\n",
       " 'T36': Entity(id='T36', type='Regulation', span=((119, 129),), text='modulation'),\n",
       " 'T37': Entity(id='T37', type='Gene_expression', span=((158, 168),), text='expression'),\n",
       " 'T38': Entity(id='T38', type='Localization', span=((194, 203),), text='migration'),\n",
       " 'T39': Entity(id='T39', type='Negative_regulation', span=((208, 218),), text='inhibition'),\n",
       " 'T40': Entity(id='T40', type='Positive_regulation', span=((237, 245),), text='critical'),\n",
       " 'T41': Entity(id='T41', type='Negative_regulation', span=((308, 318),), text='Inhibition'),\n",
       " 'T42': Entity(id='T42', type='Pathway', span=((365, 371),), text='system'),\n",
       " 'T43': Entity(id='T43', type='Positive_regulation', span=((509, 514),), text='leads'),\n",
       " 'T44': Entity(id='T44', type='Positive_regulation', span=((509, 527),), text='leads to increased'),\n",
       " 'T45': Entity(id='T45', type='Positive_regulation', span=((518, 527),), text='increased'),\n",
       " 'T46': Entity(id='T46', type='Localization', span=((545, 554),), text='migration'),\n",
       " 'T47': Entity(id='T47', type='Negative_regulation', span=((672, 682),), text='Inhibition'),\n",
       " 'T48': Entity(id='T48', type='Pathway', span=((712, 718),), text='system'),\n",
       " 'T49': Entity(id='T49', type='Positive_regulation', span=((788, 793),), text='leads'),\n",
       " 'T50': Entity(id='T50', type='Positive_regulation', span=((797, 806),), text='increased'),\n",
       " 'T51': Entity(id='T51', type='Transcription', span=((807, 817),), text='expression'),\n",
       " 'T52': Entity(id='T52', type='Positive_regulation', span=((862, 871),), text='increased'),\n",
       " 'T53': Entity(id='T53', type='Positive_regulation', span=((997, 1005),), text='elevated'),\n",
       " 'T54': Entity(id='T54', type='Infection', span=((1019, 1028),), text='infection'),\n",
       " 'T55': Entity(id='T55', type='Positive_regulation', span=((1107, 1116),), text='increased'),\n",
       " 'T56': Entity(id='T56', type='Positive_regulation', span=((1157, 1166),), text='increases'),\n",
       " 'T57': Entity(id='T57', type='Localization', span=((1170, 1179),), text='migration'),\n",
       " 'T58': Entity(id='T58', type='Negative_regulation', span=((1260, 1267),), text='blocked'),\n",
       " 'T59': Entity(id='T59', type='Positive_regulation', span=((1272, 1280),), text='increase'),\n",
       " 'T60': Entity(id='T60', type='Localization', span=((1284, 1293),), text='migration'),\n",
       " 'T61': Entity(id='T61', type='Positive_regulation', span=((1310, 1319),), text='increased'),\n",
       " 'T62': Entity(id='T62', type='Gene_expression', span=((1326, 1336),), text='expression'),\n",
       " 'T63': Entity(id='T63', type='Positive_regulation', span=((1362, 1371),), text='increases'),\n",
       " 'T64': Entity(id='T64', type='Localization', span=((1392, 1401),), text='migration'),\n",
       " 'T65': Entity(id='T65', type='Negative_regulation', span=((1453, 1463),), text='inhibition'),\n",
       " 'T66': Entity(id='T66', type='Regulation', span=((1497, 1505),), text='mediated'),\n",
       " 'T67': Entity(id='T67', type='Positive_regulation', span=((1507, 1515),), text='Elevated'),\n",
       " 'T68': Entity(id='T68', type='Gene_expression', span=((1522, 1532),), text='expression'),\n",
       " 'T69': Entity(id='T69', type='Pathway', span=((1550, 1556),), text='system'),\n",
       " 'T70': Entity(id='T70', type='Negative_regulation', span=((1557, 1567),), text='inhibition'),\n",
       " 'T71': Entity(id='T71', type='Positive_regulation', span=((1579, 1586),), text='enhance'),\n",
       " 'T72': Entity(id='T72', type='Negative_regulation', span=((1616, 1622),), text='reduce')}"
      ]
     },
     "execution_count": 20,
     "metadata": {},
     "output_type": "execute_result"
    }
   ],
   "source": [
    "entities"
   ]
  }
 ],
 "metadata": {
  "kernelspec": {
   "display_name": "ontonerd",
   "language": "python",
   "name": "ontonerd"
  },
  "language_info": {
   "codemirror_mode": {
    "name": "ipython",
    "version": 3
   },
   "file_extension": ".py",
   "mimetype": "text/x-python",
   "name": "python",
   "nbconvert_exporter": "python",
   "pygments_lexer": "ipython3",
   "version": "3.8.5"
  },
  "orig_nbformat": 4
 },
 "nbformat": 4,
 "nbformat_minor": 2
}
