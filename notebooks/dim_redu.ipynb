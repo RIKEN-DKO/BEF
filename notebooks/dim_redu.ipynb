{
 "cells": [
  {
   "cell_type": "code",
   "execution_count": 1,
   "metadata": {},
   "outputs": [],
   "source": [
    "%load_ext autoreload\n",
    "%autoreload 2"
   ]
  },
  {
   "cell_type": "code",
   "execution_count": 2,
   "metadata": {},
   "outputs": [],
   "source": [
    "\n",
    "from bef.vector_utils import compute_kernel_bias, transform_and_normalize\n",
    "from faiss_utils.faiss_indexes import create_index_flat\n",
    "from sentence_transformers import SentenceTransformer\n",
    "import argparse\n",
    "import torch\n",
    "import json\n",
    "import numpy as np\n",
    "import os\n",
    "import faiss\n",
    "import warnings\n",
    "#ignoring sklearn deprecation warnings\n",
    "\n",
    "\n",
    "def warn(*args, **kwargs):\n",
    "    pass\n",
    "\n",
    "\n",
    "warnings.warn = warn\n"
   ]
  },
  {
   "cell_type": "code",
   "execution_count": 9,
   "metadata": {},
   "outputs": [],
   "source": [
    "class EventsDataset(torch.utils.data.Dataset):\n",
    "\n",
    "  def __init__(self, graphs):\n",
    "      'Initialization'\n",
    "      self.graphs = graphs\n",
    "\n",
    "  def __len__(self):\n",
    "      'Denotes the total number of samples'\n",
    "      return len(self.graphs)\n",
    "\n",
    "  def __getitem__(self, index):\n",
    "      'Generates one sample of data'\n",
    "      # Select sample\n",
    "\n",
    "      return self.graphs[index]\n"
   ]
  },
  {
   "cell_type": "code",
   "execution_count": 6,
   "metadata": {},
   "outputs": [],
   "source": [
    "def parse_args():\n",
    "    parser = argparse.ArgumentParser()\n",
    "    parser.add_argument(\"--graphfile\", type=str, default='/home/julio/repos/event_finder/data/pubmed_full/results/cg/graph_pubmed_2000.json',\n",
    "                        help=\"The Json file of graphs \")\n",
    "    parser.add_argument(\"--index\", type=str, default='/home/julio/repos/event_finder/data/pubmed_full/results/cg/faiss_pubmedd_2000.index',\n",
    "                        help=\"The name for the output embedding file\")\n",
    "\n",
    "    parser.add_argument(\"--sbertmodel\", type=str, default='all-MiniLM-L12-v2',\n",
    "                        help=\"https://www.sbert.net/docs/pretrained_models.html\")\n",
    "\n",
    "    return parser.parse_args('')\n"
   ]
  },
  {
   "cell_type": "code",
   "execution_count": 7,
   "metadata": {},
   "outputs": [],
   "source": [
    "args = parse_args()"
   ]
  },
  {
   "cell_type": "code",
   "execution_count": 10,
   "metadata": {},
   "outputs": [
    {
     "name": "stdout",
     "output_type": "stream",
     "text": [
      "=======LOADING EVENTS JSON=======\n",
      "=======LOADING MODEL=======\n",
      "=======ENCODING..=======\n"
     ]
    }
   ],
   "source": [
    "REDU_DIM = 128\n",
    " # DIR = args.indir\n",
    "graphs = []\n",
    "print('=======LOADING EVENTS JSON=======')\n",
    "with open(args.graphfile) as ff:\n",
    "    for g in json.load(ff):\n",
    "        graphs.append(' '.join(\n",
    "            [n['name'].rstrip() for n in g['nodes']]\n",
    "        ))\n",
    "\n",
    "print('=======LOADING MODEL=======')\n",
    "BERT_MODEL = args.sbertmodel\n",
    "model = SentenceTransformer(BERT_MODEL)\n",
    "\n",
    "device = torch.device(\"cuda\")\n",
    "# Choose whatever GPU device number you want\n",
    "# Make sure to call input = input.to(device) on any input tensors that you feed to the model\n",
    "model.to(device)\n",
    "# Parameters\n",
    "params = {'batch_size': 2048,\n",
    "            'shuffle': False,\n",
    "            'num_workers': 1}\n",
    "# Generators\n",
    "graphs_set = EventsDataset(graphs)\n",
    "graphs_generator = torch.utils.data.DataLoader(graphs_set, **params)\n",
    "\n",
    "embeddings = []\n",
    "print('=======ENCODING..=======')\n",
    "for graph_batch in graphs_generator:\n",
    "    # obtain encoded tokens\n",
    "    with torch.no_grad():\n",
    "        outputs = model.encode(graph_batch)\n",
    "\n",
    "    embeddings.append(outputs)\n",
    "    #dbug\n",
    "    break\n"
   ]
  },
  {
   "cell_type": "code",
   "execution_count": 16,
   "metadata": {},
   "outputs": [
    {
     "data": {
      "text/plain": [
       "(2048, 384)"
      ]
     },
     "execution_count": 16,
     "metadata": {},
     "output_type": "execute_result"
    }
   ],
   "source": [
    "embeddings[0].shape"
   ]
  },
  {
   "cell_type": "code",
   "execution_count": 13,
   "metadata": {},
   "outputs": [],
   "source": [
    "embs = np.concatenate(embeddings)\n"
   ]
  },
  {
   "cell_type": "code",
   "execution_count": 14,
   "metadata": {},
   "outputs": [
    {
     "data": {
      "text/plain": [
       "(2048, 384)"
      ]
     },
     "execution_count": 14,
     "metadata": {},
     "output_type": "execute_result"
    }
   ],
   "source": [
    "embs.shape"
   ]
  },
  {
   "cell_type": "code",
   "execution_count": 17,
   "metadata": {},
   "outputs": [
    {
     "name": "stdout",
     "output_type": "stream",
     "text": [
      "Original dimention: 384\n",
      "Reducing dimention to:  128\n"
     ]
    }
   ],
   "source": [
    "d = embs.shape[1]\n",
    "print('Original dimention:', d)\n",
    "print('Reducing dimention to: ', REDU_DIM)\n",
    "kernel, bias = compute_kernel_bias(embs)\n",
    "kernel = kernel[:, :REDU_DIM]\n",
    "embs = transform_and_normalize(embs, kernel, bias)\n"
   ]
  },
  {
   "cell_type": "code",
   "execution_count": 18,
   "metadata": {},
   "outputs": [
    {
     "name": "stdout",
     "output_type": "stream",
     "text": [
      "++++++CREATING FAISS INDEX==============\n",
      "Loading embeddings..\n"
     ]
    }
   ],
   "source": [
    "print('++++++CREATING FAISS INDEX==============')\n",
    "\n",
    "index = create_index_flat(embs, d)\n",
    "\n",
    "# index_file = os.path.join('out', ONTOLOGY, ONTOLOGY+'.index')\n",
    "faiss.write_index(index,  args.index)\n"
   ]
  }
 ],
 "metadata": {
  "kernelspec": {
   "display_name": "Python 3.7.10 ('geometric')",
   "language": "python",
   "name": "python3"
  },
  "language_info": {
   "codemirror_mode": {
    "name": "ipython",
    "version": 3
   },
   "file_extension": ".py",
   "mimetype": "text/x-python",
   "name": "python",
   "nbconvert_exporter": "python",
   "pygments_lexer": "ipython3",
   "version": "3.7.10"
  },
  "orig_nbformat": 4,
  "vscode": {
   "interpreter": {
    "hash": "b25d7a6994c7472cc43989c34788ae8bbb98322321c87f72ef737e9c4487ccce"
   }
  }
 },
 "nbformat": 4,
 "nbformat_minor": 2
}
